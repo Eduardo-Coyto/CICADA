{
  "cells": [
    {
      "cell_type": "markdown",
      "metadata": {
        "id": "view-in-github",
        "colab_type": "text"
      },
      "source": [
        "<a href=\"https://colab.research.google.com/github/Eduardo-Coyto/CICADA/blob/Estad%C3%ADstica-inferencial/Estad%C3%ADstica_inferencial.ipynb\" target=\"_parent\"><img src=\"https://colab.research.google.com/assets/colab-badge.svg\" alt=\"Open In Colab\"/></a>"
      ]
    },
    {
      "cell_type": "markdown",
      "metadata": {
        "id": "dD1g5wN-V0mg"
      },
      "source": [
        "# Chapter 4: Statistical Inference.\n",
        "\n",
        "In this notebook we will see how to infer predictions about a population. To\n",
        "this end we will explore the relationship between sample parameters and population parameters and we will propose some methods to assess the quality\n",
        "of parameter estimates of a sample.\n",
        "\n",
        "## Data description\n",
        "\n",
        "Let's consider a dataset of accidents in Barcelona in 2013. This dataset can\n",
        "be downloaded from OpenDataBCN website (http://opendata.bcn.cat/),\n",
        "Barcelona's City Hall open data service. Each register in the dataset represents an accident by a series of features: weekday, hour, address, number\n",
        "of dead and injured people, etc. This dataset will represent our population:\n",
        "the set of all reported traffic accidents in Barcelona during 2013.\n",
        "\n",
        "In https://dieguico.cartodb.com/viz/50b06d8c-13ab-11e5-8619-0e4fddd5de28/public_map you can visualize a map of accidents in the city of Barcelona by hour of day, and by day of week."
      ]
    },
    {
      "cell_type": "code",
      "execution_count": null,
      "metadata": {
        "id": "MCPC61xoV0mh"
      },
      "outputs": [],
      "source": [
        "import matplotlib.pylab as plt\n",
        "from matplotlib import cm\n",
        "import math\n",
        "import pandas as pd\n",
        "import numpy as np\n",
        "import random\n",
        "from scipy.stats import norm\n",
        "\n",
        "%matplotlib inline \n",
        "plt.style.use('seaborn-whitegrid')\n",
        "plt.rc('text', usetex=False)\n",
        "plt.rc('xtick', labelsize=10) \n",
        "plt.rc('ytick', labelsize=10) \n",
        "plt.rc('font', size=12) "
      ]
    },
    {
      "cell_type": "code",
      "execution_count": null,
      "metadata": {
        "colab": {
          "base_uri": "https://localhost:8080/"
        },
        "id": "cUFlkm3zV0mi",
        "outputId": "f3cae3ae-1d88-4dd3-f829-41775ab31f3d"
      },
      "outputs": [
        {
          "output_type": "stream",
          "name": "stdout",
          "text": [
            "Index(['Codi d'expedient', 'Codi districte', 'Nom districte', 'Codi barri',\n",
            "       'Nom barri', 'Codi carrer', 'Nom carrer', 'Num postal caption',\n",
            "       'Descripci¢ dia setmana', 'Dia setmana', 'Descripci¢ tipus dia',\n",
            "       'NK Any', 'Mes de any', 'Nom mes', 'Dia de mes', 'Hora de dia',\n",
            "       'Descripci¢ causa vianant', 'Descripci¢ tipus de vehicle',\n",
            "       'Descripci¢ model', 'Descripci¢ marca', 'Descripci¢ color',\n",
            "       'Descripci¢ carnet', 'Antiguitat carnet', 'Coordenada UTM (Y)',\n",
            "       'Coordenada UTM (X)'],\n",
            "      dtype='object')\n"
          ]
        }
      ],
      "source": [
        "data = pd.read_csv(\"https://opendata-ajuntament.barcelona.cat/data/dataset/317e3743-fb79-4d2f-a128-5f12d2c9a55a/resource/4dc5f1de-97de-4e4f-b9a8-b4993e562c7a/download/2013_accidents_vehicles_gu_bcn_2013.csv\", encoding='latin-1')\n",
        "print(data.columns)"
      ]
    },
    {
      "cell_type": "markdown",
      "metadata": {
        "id": "kpUQf-zvV0mj"
      },
      "source": [
        "We will create a new data column which is the date and a list with the number of accidents for every day of the year:"
      ]
    },
    {
      "cell_type": "code",
      "execution_count": null,
      "metadata": {
        "id": "c0r91Tj_V0mj",
        "outputId": "5005ac25-53c7-4116-ef58-8468dfb80c6a",
        "colab": {
          "base_uri": "https://localhost:8080/"
        }
      },
      "outputs": [
        {
          "output_type": "stream",
          "name": "stdout",
          "text": [
            "Mean: 50.09041095890411\n"
          ]
        }
      ],
      "source": [
        "#Create a new column which is the date\n",
        "data['Date'] = '2013-'+data['Mes de any'].apply(lambda x : str(x)) + '-' +  data['Dia de mes'].apply(lambda x : str(x))\n",
        "data['Date'] = pd.to_datetime(data['Date'])\n",
        "accidents = data.groupby(['Date']).size()\n",
        "print(\"Mean:\", accidents.mean())"
      ]
    },
    {
      "cell_type": "code",
      "source": [
        "accidents"
      ],
      "metadata": {
        "colab": {
          "base_uri": "https://localhost:8080/"
        },
        "id": "cB6jOLEDpGqg",
        "outputId": "4fb7a3bd-b9db-42ad-ab3d-204a38ee2156"
      },
      "execution_count": null,
      "outputs": [
        {
          "output_type": "execute_result",
          "data": {
            "text/plain": [
              "Date\n",
              "2013-01-01    29\n",
              "2013-01-02    31\n",
              "2013-01-03    29\n",
              "2013-01-04    58\n",
              "2013-01-05    36\n",
              "              ..\n",
              "2013-12-27    53\n",
              "2013-12-28    20\n",
              "2013-12-29    27\n",
              "2013-12-30    49\n",
              "2013-12-31    33\n",
              "Length: 365, dtype: int64"
            ]
          },
          "metadata": {},
          "execution_count": 4
        }
      ]
    },
    {
      "cell_type": "markdown",
      "metadata": {
        "id": "qQHluIrwV0mj"
      },
      "source": [
        "Let's suppose that we are interested in describing the number of daily traffic\n",
        "accidents (**accident rate**) in the streets of Barcelona during 2013.  In order to get a first idea of the data, we can plot the number of accidents for each day of 2013:"
      ]
    },
    {
      "cell_type": "code",
      "execution_count": null,
      "metadata": {
        "id": "z9Dle95KV0mj",
        "outputId": "fcfcce92-6d6a-4c22-f821-cdf50d572bd6",
        "colab": {
          "base_uri": "https://localhost:8080/",
          "height": 295
        }
      },
      "outputs": [
        {
          "output_type": "stream",
          "name": "stderr",
          "text": [
            "findfont: Font family ['times'] not found. Falling back to DejaVu Sans.\n"
          ]
        },
        {
          "output_type": "display_data",
          "data": {
            "text/plain": [
              "<Figure size 864x288 with 1 Axes>"
            ],
            "image/png": "[encoded data removed]"
          },
          "metadata": {
            "needs_background": "light"
          }
        }
      ],
      "source": [
        "fig, ax = plt.subplots(1, 1, figsize=(12, 4))\n",
        "plt.ylabel('Number of accidents')\n",
        "plt.xlabel('Day')\n",
        "plt.plot(range(0, 365), np.array(accidents), 'b-+', lw=0.7, alpha=0.7)\n",
        "plt.plot(range(0, 365), [accidents.mean()]*365, 'r-', lw=0.7, alpha=0.9)\n",
        "plt.show()"
      ]
    },
    {
      "cell_type": "markdown",
      "metadata": {
        "id": "JJA2xYogV0mk"
      },
      "source": [
        "Alternatively, we can plot the distribution of our variable of interest: the daily number of accidents."
      ]
    },
    {
      "cell_type": "code",
      "execution_count": null,
      "metadata": {
        "id": "RaQJxoKqV0mk",
        "outputId": "733fa360-51c2-4e0f-fc9d-72483f1b1f0c",
        "colab": {
          "base_uri": "https://localhost:8080/",
          "height": 221
        }
      },
      "outputs": [
        {
          "output_type": "display_data",
          "data": {
            "text/plain": [
              "<Figure size 864x216 with 1 Axes>"
            ],
            "image/png": "[encoded data removed]"
          },
          "metadata": {
            "needs_background": "light"
          }
        }
      ],
      "source": [
        "fig, ax = plt.subplots(1, 1, figsize=(12, 3))\n",
        "plt.ylabel('Frequency')\n",
        "plt.xlabel('Number of accidents')\n",
        "plt.hist(np.array(accidents), bins=20)\n",
        "ax.axvline(x=accidents.mean(), ymin=0, ymax=40, color=[1, 0, 0])\n",
        "plt.savefig(\"bootmean.png\",dpi=300, bbox_inches='tight')\n",
        "plt.show()"
      ]
    },
    {
      "cell_type": "markdown",
      "metadata": {
        "id": "OxYcBJ5uV0ml"
      },
      "source": [
        "If we have access to the whole *population*, the computation of the **accident rate** in 2013 is a simple operation: the total number of accidents divided by 365. As a measure of quality of this parameter we can also compute the standard deviation."
      ]
    },
    {
      "cell_type": "code",
      "execution_count": null,
      "metadata": {
        "id": "ue7HcOpPV0ml",
        "outputId": "fb5b3e3e-1171-4f75-86e6-173d382269a4",
        "colab": {
          "base_uri": "https://localhost:8080/"
        }
      },
      "outputs": [
        {
          "output_type": "stream",
          "name": "stdout",
          "text": [
            "Mean: 50.09041095890411 ; STD: 18.048470791387615\n"
          ]
        }
      ],
      "source": [
        "print(\"Mean:\", accidents.mean(), \"; STD:\", accidents.std())"
      ]
    },
    {
      "cell_type": "code",
      "source": [
        "accidents.sum()"
      ],
      "metadata": {
        "colab": {
          "base_uri": "https://localhost:8080/"
        },
        "id": "fHD4NdQDXjXs",
        "outputId": "25a615d1-13fa-40f6-fd16-af35833014b3"
      },
      "execution_count": null,
      "outputs": [
        {
          "output_type": "execute_result",
          "data": {
            "text/plain": [
              "18283"
            ]
          },
          "metadata": {},
          "execution_count": 7
        }
      ]
    },
    {
      "cell_type": "markdown",
      "metadata": {
        "id": "Y8M7MQ4YV0ml"
      },
      "source": [
        "But now, let's suppose that we have only access to a limited part of the data\n",
        "(the *sample*): the number of accidents during *some days* of 2013. Can we still\n",
        "give an approximation (an *estimate*) to this population mean?"
      ]
    },
    {
      "cell_type": "markdown",
      "metadata": {
        "id": "dPPI_c2jV0ml"
      },
      "source": [
        "## Variability in estimates.\n",
        "\n",
        "Estimates generally vary from one sample to another, and this sampling variation suggests our estimate may be close, but it will not be exactly equal to the parameter.\n",
        "\n",
        "This can be easily checked by generating 10 different samples (composed of 25% of the population) from our population and compute their accident rate estimates:"
      ]
    },
    {
      "cell_type": "code",
      "execution_count": null,
      "metadata": {
        "id": "cpAZgptwV0ml",
        "outputId": "d61b06e0-6c01-473a-c7f8-b7a25e4e84ca",
        "colab": {
          "base_uri": "https://localhost:8080/"
        }
      },
      "outputs": [
        {
          "output_type": "stream",
          "name": "stdout",
          "text": [
            "Sample 0: Mean 50.26\n",
            "Sample 1: Mean 49.09\n",
            "Sample 2: Mean 51.20\n",
            "Sample 3: Mean 51.84\n",
            "Sample 4: Mean 51.50\n",
            "Sample 5: Mean 49.77\n",
            "Sample 6: Mean 50.09\n",
            "Sample 7: Mean 47.55\n",
            "Sample 8: Mean 51.08\n",
            "Sample 9: Mean 50.62\n"
          ]
        }
      ],
      "source": [
        "df = accidents.to_frame()\n",
        "m = []\n",
        "\n",
        "for i in range(10):\n",
        "    df['for_testing'] = False\n",
        "    # get a 25% sample \n",
        "    sampled_ids = np.random.choice(df.index,\n",
        "                                   size=np.int64(np.ceil(df.index.size * 0.25)),\n",
        "                                   replace=False)\n",
        "    df.loc[sampled_ids, 'for_testing'] = True\n",
        "    accidents_sample = df[df['for_testing'] == True]\n",
        "    m.append(accidents_sample[0].mean())\n",
        "    print('Sample '+str(i)+': Mean', '%.2f' % accidents_sample[0].mean())\n"
      ]
    },
    {
      "cell_type": "code",
      "execution_count": null,
      "metadata": {
        "id": "TVGLPwN1V0mm",
        "outputId": "da662749-580f-4595-8692-be29ad16ffa7",
        "colab": {
          "base_uri": "https://localhost:8080/",
          "height": 187
        }
      },
      "outputs": [
        {
          "output_type": "execute_result",
          "data": {
            "text/plain": [
              "Text(0.5, 0, 'Sample')"
            ]
          },
          "metadata": {},
          "execution_count": 9
        },
        {
          "output_type": "display_data",
          "data": {
            "text/plain": [
              "<Figure size 864x144 with 1 Axes>"
            ],
            "image/png": "[encoded data removed]"
          },
          "metadata": {
            "needs_background": "light"
          }
        }
      ],
      "source": [
        "fig, ax = plt.subplots(1, 1, figsize=(12, 2))\n",
        "x = range(10)\n",
        "ax.step(x,m, where='mid')\n",
        "ax.set_ylabel('Mean')\n",
        "ax.set_xlabel('Sample')"
      ]
    },
    {
      "cell_type": "markdown",
      "metadata": {
        "id": "sEKZCqFaV0mm"
      },
      "source": [
        "Accident rate estimates can range from 48 accident per day to 52 accidents per day, depending on the sample. How can we give a unique value for the estimate?"
      ]
    },
    {
      "cell_type": "markdown",
      "metadata": {
        "id": "ejwRx3nFV0mm"
      },
      "source": [
        "### Sampling distribution of point estimates\n",
        "\n",
        "The most intuitive way to go about giving a value for the estimate is to simply take the *sample\n",
        "mean*. The sample mean is a point estimate of the population mean. If we\n",
        "can only choose one value to estimate the population mean, this is our best\n",
        "guess.\n",
        "\n",
        "Let's computer the sample means for a set of 10000 samples, each one composed of 200 days:"
      ]
    },
    {
      "cell_type": "code",
      "execution_count": null,
      "metadata": {
        "id": "qn20pT8vV0mn",
        "outputId": "0e50a75c-02dd-428c-e5b0-3a10e7451a78",
        "colab": {
          "base_uri": "https://localhost:8080/",
          "height": 273
        }
      },
      "outputs": [
        {
          "output_type": "display_data",
          "data": {
            "text/plain": [
              "<Figure size 432x288 with 0 Axes>"
            ]
          },
          "metadata": {}
        },
        {
          "output_type": "display_data",
          "data": {
            "text/plain": [
              "<Figure size 864x216 with 1 Axes>"
            ],
            "image/png": "[encoded data removed]"
          },
          "metadata": {
            "needs_background": "light"
          }
        },
        {
          "output_type": "stream",
          "name": "stdout",
          "text": [
            "Sample mean: 50.0773335\n"
          ]
        },
        {
          "output_type": "display_data",
          "data": {
            "text/plain": [
              "<Figure size 432x288 with 0 Axes>"
            ]
          },
          "metadata": {}
        }
      ],
      "source": [
        "plt.autumn()\n",
        "\n",
        "# population\n",
        "df = accidents.to_frame()    \n",
        "N_test = 10000              \n",
        "elements = 200             \n",
        "\n",
        "# mean array of samples\n",
        "means = [0] * N_test             \n",
        "\n",
        "# sample generation\n",
        "for i in range(N_test):          \n",
        "    rows = np.random.choice(df.index.values, elements)\n",
        "    sampled_df = df.loc[rows]\n",
        "    means[i] = sampled_df.mean()\n",
        "    \n",
        "fig, ax = plt.subplots(1, 1, figsize=(12,3))\n",
        "\n",
        "plt.hist(np.array(means),bins=50)\n",
        "plt.ylabel('Frequency')\n",
        "plt.xlabel('Sample mean value')\n",
        "ax.axvline(x = np.array(means).mean(), \n",
        "           ymin = 0, \n",
        "           ymax = 700, \n",
        "           color = [1, 0, 0])\n",
        "plt.savefig(\"empiricalmean.png\",dpi=300, bbox_inches='tight')\n",
        "plt.show()\n",
        "plt.set_cmap(cmap=cm.Pastel2)\n",
        "\n",
        "print(\"Sample mean:\", np.array(means).mean())"
      ]
    },
    {
      "cell_type": "markdown",
      "metadata": {
        "id": "Z-z0K_ahV0mn"
      },
      "source": [
        "This is the **sampling distribution of the mean**. From it we could estimate the most probable value of the mean and also its standard deviation, but in the real world we will not have access to this function!"
      ]
    },
    {
      "cell_type": "markdown",
      "metadata": {
        "id": "oZ4L7X4TV0mn"
      },
      "source": [
        "### Standard error of the mean\n",
        "\n",
        "Noe let's suppose that we have only one sample of the propulation. As comented before, the mean estimate from that sample may be close, but it will not be exactly equal to our parameter of interest (that can only be computed if we have access to the full population). For this reason it is interesting to measure its variability with respect to the sampling process. To this end we can use the *standard error of the mean*.\n",
        "\n",
        "It can be mathematically shown that given $n$ independent observations $\\{ x_i \\}_{i=1,..,n}$ from a population with a standard deviation $\\sigma_x$, the standard deviation of the sample mean $\\sigma_{\\bar{x}}$, or **standard error** is:\n",
        "\n",
        "$$ SE = \\frac{\\sigma_{x}}{\\sqrt{n}} $$\n",
        "\n",
        "This allows **to estimate the standard deviation of the sample mean** even if we cannot perform the simulation process (f.e. because we have no access to the population). Usually, $\\sigma_x$ is not known and it is substituted by its empirical estimate (that is sufficiently good of $n>30$ and the population distribution is not skewed):"
      ]
    },
    {
      "cell_type": "code",
      "execution_count": null,
      "metadata": {
        "id": "qmhAVooUV0mn",
        "outputId": "8d46a3e6-8528-43ae-dd9e-d8871d5204e6",
        "colab": {
          "base_uri": "https://localhost:8080/"
        }
      },
      "outputs": [
        {
          "output_type": "stream",
          "name": "stdout",
          "text": [
            "Direct estimation of SE from one sample of 200 elements: 1.2651396729056437\n",
            "Estimation of the SE by simulating 10000 samples of 200 elements: 1.2698012963758345\n"
          ]
        }
      ],
      "source": [
        "rows = np.random.choice(df.index.values, 200)\n",
        "sampled_df = df.loc[rows]\n",
        "est_sigma_mean = sampled_df.std()/math.sqrt(200)\n",
        "\n",
        "print('Direct estimation of SE from one sample of 200 elements:', \\\n",
        "       est_sigma_mean[0])\n",
        "print('Estimation of the SE by simulating 10000 samples of 200 elements:',  \\\n",
        "       np.array(means).std())"
      ]
    },
    {
      "cell_type": "markdown",
      "metadata": {
        "id": "y-o0brTxV0mn"
      },
      "source": [
        "We could be also interested in quantifying the standard deviation of other estimates: median, standard deviation, etc., but unlike in the case of the sample mean, there is no simple formula for the standard\n",
        "error of other interesting sample estimates, such as the median."
      ]
    },
    {
      "cell_type": "markdown",
      "metadata": {
        "id": "xJTwdAxwV0mo"
      },
      "source": [
        "Let's consider from now the whole accidents dataset as a sample from an hypothetical population (this is the most common situation when analyzing real data!)."
      ]
    },
    {
      "cell_type": "markdown",
      "metadata": {
        "id": "WJ0AlOdEV0mo"
      },
      "source": [
        "### Bootstrapping the standard error of the mean.\n",
        "\n",
        "A modern alternative to the traditional approach to statistical inference is\n",
        "the *bootstrapping method*. In the bootstrap, we draw $N$ observations with\n",
        "replacement from the original data to create a bootstrap sample or resample.\n",
        "Then, we can calculate the mean for this resample. By repeating this process\n",
        "a large number of times we can built a good approximation of the mean\n",
        "sampling distribution."
      ]
    },
    {
      "cell_type": "code",
      "execution_count": null,
      "metadata": {
        "id": "m4DdY5hVV0mo",
        "outputId": "662ae8c3-51e0-44b7-850b-c337f80bf186",
        "colab": {
          "base_uri": "https://localhost:8080/"
        }
      },
      "outputs": [
        {
          "output_type": "stream",
          "name": "stdout",
          "text": [
            "Mean estimate: 50.079843561643834\n"
          ]
        }
      ],
      "source": [
        "def meanBootstrap(X,numberb):\n",
        "    import numpy as np\n",
        "    x = [0]*numberb\n",
        "    for i in range(numberb):\n",
        "        sample = [X[o] for o in np.random.randint(len(X), size=len(X))]\n",
        "        x[i] = np.mean(sample)\n",
        "    return x\n",
        "\n",
        "m = meanBootstrap(accidents, 10000)\n",
        "print(\"Mean estimate:\", np.mean(m))"
      ]
    },
    {
      "cell_type": "code",
      "execution_count": null,
      "metadata": {
        "id": "jvroylZfV0mo",
        "outputId": "ab4d2ae9-8cd3-4bab-cbd0-73fec1c6b894",
        "colab": {
          "base_uri": "https://localhost:8080/",
          "height": 238
        }
      },
      "outputs": [
        {
          "output_type": "execute_result",
          "data": {
            "text/plain": [
              "<matplotlib.lines.Line2D at 0x7f7f646a6f10>"
            ]
          },
          "metadata": {},
          "execution_count": 15
        },
        {
          "output_type": "display_data",
          "data": {
            "text/plain": [
              "<Figure size 864x216 with 1 Axes>"
            ],
            "image/png": "[encoded data removed]"
          },
          "metadata": {
            "needs_background": "light"
          }
        }
      ],
      "source": [
        "fig, ax = plt.subplots(1, 1, figsize=(12, 3))\n",
        "plt.ylabel('Frequency')\n",
        "plt.xlabel('Sample mean value')\n",
        "plt.hist(m, \n",
        "         bins = 50, \n",
        "         density = True)\n",
        "ax.axvline(x = np.mean(m), \n",
        "           ymin = 0.0, \n",
        "           ymax = 1.0, \n",
        "           color = [1, 0, 0])"
      ]
    },
    {
      "cell_type": "markdown",
      "metadata": {
        "id": "tGno54fSV0mo"
      },
      "source": [
        "The boostrapping method can be applied to other simple estimates such as\n",
        "the median or the variance:"
      ]
    },
    {
      "cell_type": "code",
      "execution_count": null,
      "metadata": {
        "id": "aqTFVI6xV0mo",
        "outputId": "9122b2f0-f4e5-4c10-b757-a910c3bbe2ba",
        "colab": {
          "base_uri": "https://localhost:8080/",
          "height": 256
        }
      },
      "outputs": [
        {
          "output_type": "stream",
          "name": "stdout",
          "text": [
            "Median estimate: 50.7079\n"
          ]
        },
        {
          "output_type": "execute_result",
          "data": {
            "text/plain": [
              "<matplotlib.lines.Line2D at 0x7f7f62710710>"
            ]
          },
          "metadata": {},
          "execution_count": 18
        },
        {
          "output_type": "display_data",
          "data": {
            "text/plain": [
              "<Figure size 864x216 with 1 Axes>"
            ],
            "image/png": "[encoded data removed]"
          },
          "metadata": {
            "needs_background": "light"
          }
        }
      ],
      "source": [
        "def medBootstrap(X,numberb):\n",
        "    import numpy as np\n",
        "    x = [0]*numberb\n",
        "    for i in range(numberb):\n",
        "        sample = [X[_] for _ in np.random.randint(len(X), size=len(X))]\n",
        "        x[i] = np.median(sample)\n",
        "    return x\n",
        "\n",
        "med = medBootstrap(accidents, 10000)\n",
        "print(\"Median estimate:\", np.mean(med) )\n",
        "fig, ax = plt.subplots(1, 1, figsize=(12, 3))\n",
        "plt.hist(med, bins=5, density=True)\n",
        "plt.ylabel('Frequency')\n",
        "plt.xlabel('Sample median value')\n",
        "ax.axvline(x = np.array(med).mean(), \n",
        "           ymin = 0, \n",
        "           ymax = 1.0, \n",
        "           color = [1, 0, 0])"
      ]
    },
    {
      "cell_type": "code",
      "source": [
        "# Standard error - analytic estimate\n",
        "se = accidents.std()/math.sqrt(len(accidents))\n",
        "# Standard error - Bootstrap estimate\n",
        "se_b = np.std(m)\n",
        "print(\"Analytic estimate of standard error: \",se )\n",
        "print(\"Bootstrap (10000 resamples) estimate of standard error: \",se_b)"
      ],
      "metadata": {
        "colab": {
          "base_uri": "https://localhost:8080/"
        },
        "id": "A3acqAa3Zgek",
        "outputId": "1c935d43-42f2-49f1-86d5-2ffe6db81154"
      },
      "execution_count": null,
      "outputs": [
        {
          "output_type": "stream",
          "name": "stdout",
          "text": [
            "Analytic estimate of standard error:  0.9447001378383004\n",
            "Bootstrap (10000 resamples) estimate of standard error:  0.9353721772635741\n"
          ]
        }
      ]
    },
    {
      "cell_type": "markdown",
      "metadata": {
        "id": "x55K7kXJV0mo"
      },
      "source": [
        "## Confidence intervals.\n",
        "\n",
        "A point estimate provides a single plausible value for a parameter. However,\n",
        "as we have seen a point estimate is rarely perfect; usually there is some error\n",
        "in the estimate. That is why we have proposed to use the standard error as\n",
        "a measure of its variability.\n",
        "\n",
        "As an alternative, a next logical step would be to provide a **plausible range of\n",
        "values** for the parameter. A plausible range of values for the sample parameter\n",
        "is called a **confidence interval**.\n",
        "\n",
        "We will base the definition of confidence interval on two ideas:\n",
        "\n",
        "+ Our point estimate is the most plausible value of the parameter, so it makes sense to build the confidence interval around the point estimate.\n",
        "\n",
        "+ The plausability of a range of values can be defined from the sampling distribution of the estimate.\n",
        "\n",
        "In order to define an interval, we can make use of a well\n",
        "known result from probability that applies to normal distributions: roughly\n",
        "95% of the time our estimate will be within 1.96 standard errors of the true\n",
        "mean of the distribution."
      ]
    },
    {
      "cell_type": "code",
      "execution_count": null,
      "metadata": {
        "id": "V-3IK8QlV0mo",
        "outputId": "373ca732-fcd4-4d8e-add7-1536d45758ee",
        "colab": {
          "base_uri": "https://localhost:8080/"
        }
      },
      "outputs": [
        {
          "output_type": "stream",
          "name": "stdout",
          "text": [
            "Confidence interval: [48.23879868874104, 51.942023229067175]\n"
          ]
        }
      ],
      "source": [
        "m = accidents.mean()\n",
        "se = accidents.std()/math.sqrt(len(accidents))\n",
        "ci = [m - se*1.96, m + se*1.96]\n",
        "print(\"Confidence interval:\", ci)"
      ]
    },
    {
      "cell_type": "markdown",
      "metadata": {
        "id": "p8jVRRvrV0mo"
      },
      "source": [
        "This is how we would compute a 95% confidence interval of the sample mean by using bootstrapping:\n",
        "\n",
        "1. Repeat the following steps a large number $M$ of times: \n",
        "    + Draw $N$ observations with replacement from the original data to create a bootstrap sample or resample; \n",
        "    + Calculate the mean for the resample.\n",
        "2. Calculate the **mean** of your $M$ values of the sample statistic. This process gives you a “bootstrapped” estimate of the sample statistic.\n",
        "3. Calculate the **standard deviation** of your $M$ values of the sample statistic. This process gives you a “bootstrapped” estimate of the **SE** of the sample statistic.\n",
        "4. Obtain the 2.5th and 97.5th centiles of your $M$ values values of the sample statistic."
      ]
    },
    {
      "cell_type": "code",
      "execution_count": null,
      "metadata": {
        "id": "NfLxBd6sV0mo",
        "outputId": "5947eb80-be04-403e-d9e8-6ac09e754569",
        "colab": {
          "base_uri": "https://localhost:8080/"
        }
      },
      "outputs": [
        {
          "output_type": "stream",
          "name": "stdout",
          "text": [
            "Mean estimate: 50.07836410958904\n",
            "SE of the estimate: 0.9437246713392374\n",
            "Confidence interval: [48.238287671232875, 51.895890410958906]\n"
          ]
        }
      ],
      "source": [
        "m = meanBootstrap(accidents, 10000)\n",
        "sample_mean = np.mean(m)\n",
        "sample_se =  np.std(m)\n",
        "\n",
        "print(\"Mean estimate:\", sample_mean)\n",
        "print(\"SE of the estimate:\", sample_se)\n",
        "\n",
        "ci = [np.percentile(m,2.5), np.percentile(m,97.5)]\n",
        "print(\"Confidence interval:\", ci)"
      ]
    },
    {
      "cell_type": "markdown",
      "metadata": {
        "id": "n-UtRubzV0mo"
      },
      "source": [
        "### Waht is the real meaning of CI?\n",
        "\n",
        "The real meaning of \"confidence\" is not evident and it must be understood\n",
        "from the point of view of the generating process.\n",
        "\n",
        "Suppose we take many (infinite) samples from a population and built a\n",
        "95% confidence interval from each sample. Then about 95% of those intervals\n",
        "would contain the actual parameter.\n",
        "\n",
        "This can be easily showed by simulating a large number of samples and checking how many intervals contain the true parameter:"
      ]
    },
    {
      "cell_type": "code",
      "execution_count": null,
      "metadata": {
        "id": "58Tmak6eV0mp",
        "outputId": "087d7e6a-7cdd-4158-e772-52e30f234ff0",
        "colab": {
          "base_uri": "https://localhost:8080/",
          "height": 333
        }
      },
      "outputs": [
        {
          "output_type": "display_data",
          "data": {
            "text/plain": [
              "<Figure size 864x360 with 1 Axes>"
            ],
            "image/png": "[encoded data removed]"
          },
          "metadata": {
            "needs_background": "light"
          }
        }
      ],
      "source": [
        "df = accidents   \n",
        "\n",
        "n = 100                                               # number of observations\n",
        "N_test = 100                                          # number of samples with n observations\n",
        "means = np.array([0.0] * N_test)                      # samples' mean\n",
        "s = np.array([0.0] * N_test)                          # samples' std\n",
        "ci = np.array([[0.0,0.0]] * N_test)\n",
        "tm = df.mean()                                        # \"true\" mean\n",
        "\n",
        "for i in range(N_test):                               # sample generation and CI computation\n",
        "    rows = np.random.choice(df.index.values, n)\n",
        "    sampled_df = df.loc[rows]\n",
        "    means[i] = sampled_df.mean()\n",
        "    s[i] = sampled_df.std()\n",
        "    ci[i] = means[i] + np.array([-s[i] *1.96/np.sqrt(n), s[i]*1.96/np.sqrt(n)])    \n",
        "\n",
        "out1 = ci[:,0] > tm                                   # CI that do not contain the \"true\" mean\n",
        "out2 = ci[:,1] < tm\n",
        "\n",
        "fig, ax = plt.subplots(1, 1, figsize=(12, 5))\n",
        "ind = np.arange(1, N_test+1)\n",
        "ax.axhline(y = tm, \n",
        "           xmin = 0, \n",
        "           xmax = N_test+1, \n",
        "           color = [0, 0, 0])\n",
        "ci = np.transpose(ci)\n",
        "ax.plot([ind,ind], \n",
        "        ci, \n",
        "        color = '0.75', \n",
        "        marker = '_', \n",
        "        ms = 0, \n",
        "        linewidth = 3)\n",
        "ax.plot([ind[out1],ind[out1]], \n",
        "        ci[:, out1], \n",
        "        color = [1, 0, 0, 0.8], \n",
        "        marker = '_', \n",
        "        ms = 0, \n",
        "        linewidth = 3)\n",
        "ax.plot([ind[out2],ind[out2]], \n",
        "        ci[:, out2], \n",
        "        color = [1, 0, 0, 0.8], \n",
        "        marker = '_',\n",
        "        ms = 0, \n",
        "        linewidth = 3)\n",
        "ax.plot(ind, \n",
        "        means, \n",
        "        color = [0, .8, .2, .8], \n",
        "        marker = '.',\n",
        "        ms = 10, \n",
        "        linestyle = '')\n",
        "ax.set_ylabel(\"Confidence interval for the samples' mean estimate\",\n",
        "              fontsize = 12)\n",
        "ax.set_xlabel('Samples (with %d observations). '  %n, \n",
        "              fontsize = 12)\n",
        "plt.savefig(\"confidence.png\",\n",
        "            dpi = 300, \n",
        "            bbox_inches = 'tight')\n",
        "plt.show()"
      ]
    },
    {
      "cell_type": "markdown",
      "metadata": {
        "id": "vyVKxyskV0mp"
      },
      "source": [
        "## Hypothesis testing\n",
        "\n",
        "To give a measure of variability of our estimates is a way of producing a\n",
        "statistical proposition about the population, but not the only one. R.A.Fisher\n",
        "(1890-1962) proposed an alternative, known as *hypothesis testing*, that is\n",
        "based on the concept of *statistical significance*.\n",
        "\n",
        "Let's suppose that a deeper analysis of traffic accidents in Barcelona results\n",
        "in a difference between 2010 and 2013. Of course, the diference could be caused only by chance, because of the variability of both estimates. But it\n",
        "could also be the case that traffic conditions are very diferent in Barcelona\n",
        "during these two periods and, because of this, data from these two periods can\n",
        "be considered as belonging to two diferent populations. Then, the relevant\n",
        "question is: Are the observed effects real or not?\n",
        "\n",
        "The process of determining the statistical significance of an effect is called\n",
        "**hypothesis testing**. This process starts by simplifying the options into two\n",
        "competing hypotheses:\n",
        "\n",
        "+ $H_0$: The mean number of daily traffic accidents is the same in 2013 and 2010 (there is only one population, one true mean, and 2010 and 2013 are just different samples from the same population).\n",
        "\n",
        "+ $H_A$: The mean number of daily traffic accidents for 2010 and for 2013 is different (2010 and 2013 are two samples from two different populations).\n",
        "\n",
        "We call $H_0$ the *null hypothesis* and it represents a skeptical point of view:\n",
        "the effect we have observed is due to chance (due to the specific sample bias).\n",
        "\n",
        "$H_A$ is the *alternative hypothesis* and it represents the other point of view:\n",
        "the effect is real.\n",
        "\n",
        "The general rule of frequentist hypothesis testing is: We will not discard $H_0$\n",
        "(and hence we will not consider $H_A$) unless the observed effect is implausible\n",
        "under $H_0$."
      ]
    },
    {
      "cell_type": "markdown",
      "metadata": {
        "id": "Jwrxgv-DV0mp"
      },
      "source": [
        "### Testing hypotheses using confidence intervals.\n",
        "\n",
        "We can use the concept represented by confidence intervals to measure the\n",
        "plausibility of an hypothesis.\n",
        "\n",
        "We can illustrate the evaluation of the hypotheses setup by comparing the\n",
        "mean rate of traffic accidents in Barcelona during 2010 and 2013 using a point estimate from the 2013 sample:"
      ]
    },
    {
      "cell_type": "code",
      "execution_count": null,
      "metadata": {
        "id": "9ziINB4_V0mp",
        "outputId": "a075adb4-8f65-4655-c7aa-a00246983367",
        "colab": {
          "base_uri": "https://localhost:8080/"
        }
      },
      "outputs": [
        {
          "output_type": "stream",
          "name": "stdout",
          "text": [
            "2010: Mean 24.81095890410959\n",
            "2013: Mean 25.90958904109589\n"
          ]
        }
      ],
      "source": [
        "data = pd.read_csv(\"https://opendata-ajuntament.barcelona.cat/data/dataset/e769eb9d-d778-4cd7-9e3a-5858bba49b20/resource/40838699-52ea-4e87-9e68-d9244ad10d9c/download\", encoding='latin-1')\n",
        "#Create a new column which is the date\n",
        "data['Date'] = data['Dia de mes'].apply(lambda x : str(x)) + '-' +  \\\n",
        "               data['Mes de any'].apply(lambda x : str(x))\n",
        "data2 = data['Date']\n",
        "counts2010 =data['Date'].value_counts()\n",
        "print('2010: Mean', counts2010.mean())\n",
        "\n",
        "data = pd.read_csv(\"https://opendata-ajuntament.barcelona.cat/data/dataset/e769eb9d-d778-4cd7-9e3a-5858bba49b20/resource/f6e0b9b2-fd47-408f-8b36-ee09f7f4a336/download\", encoding='latin-1')\n",
        "#Create a new column which is the date\n",
        "data['Date'] = data['Dia de mes'].apply(lambda x : str(x)) + '-' +  \\\n",
        "               data['Mes de any'].apply(lambda x : str(x))\n",
        "data2 = data['Date']\n",
        "counts2013 = data['Date'].value_counts()\n",
        "print('2013: Mean', counts2013.mean())"
      ]
    },
    {
      "cell_type": "markdown",
      "metadata": {
        "id": "RqYUAkZBV0mp"
      },
      "source": [
        "This estimate suggests that during 2013 the mean rate of\n",
        "traffic accidents in Barcelona **was higher** than 2010. But is this effect statistically significant?\n",
        "\n",
        "Based on our sample, the 95% confidence interval for the mean rate of\n",
        "traffic accidents in Barcelona during 2013 can be calculated as:"
      ]
    },
    {
      "cell_type": "code",
      "execution_count": null,
      "metadata": {
        "id": "6L_Rx5ybV0mp",
        "outputId": "9300d90c-d68f-482f-e3ea-86b35aa0eccb",
        "colab": {
          "base_uri": "https://localhost:8080/"
        }
      },
      "outputs": [
        {
          "output_type": "stream",
          "name": "stdout",
          "text": [
            "2010 accident rate estimate: 24.81095890410959\n",
            "2013 accident rate estimate: 25.90958904109589\n",
            "CI for 2013: [24.975156065800284, 26.8440220163915]\n"
          ]
        }
      ],
      "source": [
        "n = len(counts2013)\n",
        "mean = counts2013.mean()\n",
        "s = counts2013.std()\n",
        "ci = [mean - s*1.96/np.sqrt(n),  mean + s*1.96/np.sqrt(n)] \n",
        "print('2010 accident rate estimate:', counts2010.mean())\n",
        "print('2013 accident rate estimate:', counts2013.mean())\n",
        "print('CI for 2013:',ci)"
      ]
    },
    {
      "cell_type": "markdown",
      "metadata": {
        "id": "6iqlFseAV0mp"
      },
      "source": [
        "\n",
        "\n",
        "```\n",
        "# Esto tiene formato de código\n",
        "```\n",
        "\n",
        "Because 2010 accident rate estimate does not fall in the range of plausible values of 2013, we say the\n",
        "alternative hypothesis cannot be rejected. That is, it can not be discarded that during 2013 the mean rate of traffic accidents in Barcelona was higher than during 2010."
      ]
    },
    {
      "cell_type": "markdown",
      "metadata": {
        "id": "H_zC6uRMV0mp"
      },
      "source": [
        "### Testing hypotheses using P-values.\n",
        "\n",
        "A more advanced notion of statistical significance was developed by R.A.Fisher\n",
        "in the 1920's when looking for a test to decide whether variation in crop yields\n",
        "were due to some specific intervention or merely randon factors beyond experimental control.\n",
        "Fisher first assumed that fertilizer caused no difference (null hypothesis)\n",
        "and then calculated $P$, the probability that an observed yield in a fertilized\n",
        "field would occur if fertilizer had no real effect. This probability is called\n",
        "p-value.\n",
        "\n",
        "The p-value is the probability of observing data at least as favorable to\n",
        "the alternative hypothesis as our current data set, if the null hypothesis is\n",
        "true.\n",
        "\n",
        "To apply a test of hypotheses to our problem, the first step is to quantify the size of the apparent effect by choosing a test statistic. In our case, the apparent effect is a difference in accident\n",
        "rates, so a natural choice for the test statistic is the difference in means\n",
        "between the two periods:"
      ]
    },
    {
      "cell_type": "code",
      "execution_count": null,
      "metadata": {
        "id": "sAINRaf5V0mp",
        "outputId": "eb4f7224-9254-4bfe-8f34-d3c4929e95db",
        "colab": {
          "base_uri": "https://localhost:8080/"
        }
      },
      "outputs": [
        {
          "output_type": "stream",
          "name": "stdout",
          "text": [
            "m: 365 n: 365\n",
            "difference in means:  1.0986301369863014\n"
          ]
        }
      ],
      "source": [
        "m = len(counts2010)\n",
        "n = len(counts2013)\n",
        "observed_difference = (counts2013.mean() - counts2010.mean())\n",
        "print('m:',m, 'n:', n)\n",
        "print('difference in means: ', observed_difference)"
      ]
    },
    {
      "cell_type": "markdown",
      "source": [
        "A better choice would be to consider the difference in means in terms of the estimated standard error of the mean. This is the approach taken by Student's t test. The t Statistic in this case is the ratio between the difference in means and an estimate of the standard error (that estimate has its own non-trivial assumptions, like whether or not both samples come from populations with the same variance or not)."
      ],
      "metadata": {
        "id": "1T9OMSuEshnp"
      }
    },
    {
      "cell_type": "markdown",
      "metadata": {
        "id": "RRXbUD9DV0mp"
      },
      "source": [
        "The second step is to define a null hypothesis, which is a model of the\n",
        "system based on the assumption that the apparent effect is not real. In\n",
        "our case the null hypothesis is that there is no diference between the two\n",
        "periods. The alternative hypothesis is that during 2013 the mean rate of traffic accidents in Barcelona was higher than 2010.\n",
        "\n",
        "The third step is to compute a p-value, which is the probability of seeing\n",
        "the apparent effect if the null hypothesis is true. In our case, we would\n",
        "compute the absolute difference in means, then compute the probability\n",
        "of seeing a difference as big, or bigger, under the null hypothesis.\n",
        "\n",
        "Usually, if P is less than 0.05 (the chance of a \n",
        "fluke is less than 5%) the\n",
        "result is declared statistically significant.\n",
        "\n",
        "Without further assumptions (other than both are independent random samples of a distribution), one can approximate the sample distribution of the statistic with a **permutation test** (or more exactly, a **randomization test**):\n",
        "\n",
        "1. Pool the distributions.\n",
        "2. Randomly split the pooled distribution in two samples of size _m_ and _n_\n",
        "3. Calculate the difference in the means of both samples, and keep it. \n",
        "4. Repeat steps 2 and 3 *many* times\n",
        "5. Count how many of the calculated differences are larger than the observed difference"
      ]
    },
    {
      "cell_type": "code",
      "execution_count": null,
      "metadata": {
        "id": "_H9dRok9V0mp",
        "outputId": "9e8b07f1-ef05-4b2d-b271-89144e67486d",
        "colab": {
          "base_uri": "https://localhost:8080/",
          "height": 253
        }
      },
      "outputs": [
        {
          "output_type": "execute_result",
          "data": {
            "text/plain": [
              "Text(0.5, 1.0, 'Pooled distribution')"
            ]
          },
          "metadata": {},
          "execution_count": 26
        },
        {
          "output_type": "display_data",
          "data": {
            "text/plain": [
              "<Figure size 864x216 with 1 Axes>"
            ],
            "image/png": "[encoded data removed]"
          },
          "metadata": {
            "needs_background": "light"
          }
        }
      ],
      "source": [
        "x = counts2010\n",
        "y = counts2013\n",
        "pool = np.concatenate([x,y])\n",
        "np.random.shuffle(pool)\n",
        "\n",
        "fig, ax = plt.subplots(1, 1, figsize=(12, 3))\n",
        "plt.hist(pool, \n",
        "         bins = 25, \n",
        "         density = True)\n",
        "plt.ylabel('Frequency')\n",
        "plt.xlabel('Number of accidents')\n",
        "plt.title(\"Pooled distribution\")"
      ]
    },
    {
      "cell_type": "code",
      "execution_count": null,
      "metadata": {
        "id": "pd4MceiUV0mq"
      },
      "outputs": [],
      "source": [
        "N = 10000 # number of samples\n",
        "diff = np.zeros(N)\n",
        "for i in np.arange(N):\n",
        "    perm = np.random.permutation(pool)\n",
        "    p1 =  perm[0:m] #2010 dataset size is m\n",
        "    p2 =  perm[m:] #2013 dataset size is n\n",
        "    #p1 = [random.choice(pool) for _ in np.arange(n)]\n",
        "    #p2 = [random.choice(pool) for _ in np.arange(n)]\n",
        "    diff[i] = (np.mean(p1)-np.mean(p2))"
      ]
    },
    {
      "cell_type": "code",
      "source": [
        "fig, ax = plt.subplots(1, 1, figsize=(12, 3))\n",
        "plt.hist(diff, bins = 50, density = True)\n",
        "plt.ylabel('Frequency')\n",
        "plt.xlabel('Difference in the mean')\n",
        "plt.axvline(x=observed_difference,color='red')\n",
        "plt.text(x=observed_difference+.1,y=.3,s=\"Observed difference\")"
      ],
      "metadata": {
        "colab": {
          "base_uri": "https://localhost:8080/",
          "height": 238
        },
        "id": "2MUJ0W0BpvYw",
        "outputId": "5b2f1937-be36-4aeb-d3f9-e43f8b3143da"
      },
      "execution_count": null,
      "outputs": [
        {
          "output_type": "execute_result",
          "data": {
            "text/plain": [
              "Text(1.1986301369863015, 0.3, 'Observed difference')"
            ]
          },
          "metadata": {},
          "execution_count": 30
        },
        {
          "output_type": "display_data",
          "data": {
            "text/plain": [
              "<Figure size 864x216 with 1 Axes>"
            ],
            "image/png": "[encoded data removed]"
          },
          "metadata": {
            "needs_background": "light"
          }
        }
      ]
    },
    {
      "cell_type": "code",
      "source": [
        ""
      ],
      "metadata": {
        "colab": {
          "base_uri": "https://localhost:8080/"
        },
        "id": "l5dAO_u_nhzE",
        "outputId": "3c0210b7-34cc-474d-cbc5-c860779b0ce9"
      },
      "execution_count": null,
      "outputs": [
        {
          "output_type": "execute_result",
          "data": {
            "text/plain": [
              "array([   0,    1,    2, ..., 9997, 9998, 9999])"
            ]
          },
          "metadata": {},
          "execution_count": 46
        }
      ]
    },
    {
      "cell_type": "code",
      "execution_count": null,
      "metadata": {
        "id": "lnuRpHF9V0mq",
        "outputId": "22fbfd6d-4a29-4c6f-b903-4b9c35e5620c",
        "colab": {
          "base_uri": "https://localhost:8080/"
        }
      },
      "outputs": [
        {
          "output_type": "execute_result",
          "data": {
            "text/plain": [
              "437"
            ]
          },
          "metadata": {},
          "execution_count": 32
        }
      ],
      "source": [
        "# counting how many differences are larger than the observed one\n",
        "diff2 = np.array(diff)\n",
        "w1 = np.where(diff2 > observed_difference)[0]      \n",
        "len(w1)"
      ]
    },
    {
      "cell_type": "markdown",
      "metadata": {
        "id": "EMj_UtVYV0mq"
      },
      "source": [
        "If there are $k$ sample pairs where the difference in mean is as big as or bigger than the original difference, the p-value is approximately $k+1/N$. In or case:"
      ]
    },
    {
      "cell_type": "code",
      "execution_count": null,
      "metadata": {
        "id": "7tkgVex6V0mq",
        "outputId": "cefd2c06-a953-4ba6-9df0-57499b7917ce",
        "colab": {
          "base_uri": "https://localhost:8080/"
        }
      },
      "outputs": [
        {
          "output_type": "stream",
          "name": "stdout",
          "text": [
            "p-value (Simulation)= 0.0438 ( 4.37 %) \n",
            "Observed difference = 1.0986301369863014\n",
            "Null hypothesis rejected at alpha 0.05 level. The effect is likely.\n"
          ]
        }
      ],
      "source": [
        "print('p-value (Simulation)=', (len(w1)+1)/float(N), '(', len(w1)/float(N)*100 ,'%)', '\\nObserved difference =', observed_difference)\n",
        "if len(w1)/float(N)<0.05:\n",
        "    print('Null hypothesis rejected at alpha 0.05 level. The effect is likely.')\n",
        "else:\n",
        "    print('Null hypothesis NOT rejected at alpha 0.05 level. We have no reason to believe the effect is likely')"
      ]
    },
    {
      "cell_type": "markdown",
      "metadata": {
        "id": "9rzKfD6xV0mq"
      },
      "source": [
        "We have defined the effect as a difference in mean as\n",
        "big or bigger than the observed difference, taking into account the sign. A test like this is called *one-sided*.\n",
        "\n",
        "If the relevant question is whether accident rates are different, then it\n",
        "makes sense to test the absolute difference in means. This kind of test is called *two-sided*\n",
        "because it  counts both sides of the distribution of differences."
      ]
    },
    {
      "cell_type": "markdown",
      "source": [
        "### A parametric approach - Student's t-Test\n",
        "\n",
        "We can contrast the results from the randomization test with the parametric approach of Student's $t$ test.\n",
        "\n",
        "Student's $t$ test, that comes with the $t$ statistic and its analytical solution to its sampling distribution, Student's $t$ distribution, which at these sample sizes is equivalent to the standard normal distribution (zero mean and unit variance).\n",
        "\n",
        "To use this test, we assume that both samples come from populations that have a _normal distribution_ with unkown mean and standard deviation.\n",
        "\n",
        "Assuming both samples have the same variance, we can calculate the $t$ statistic as follows. \n",
        "\n",
        "1. Calculate the standard deviation (actually, variance is more helpful) in each sample. Estimate the pooled standard deviation (for unequal sample sizes or different assumed variances the formulas are different).\n",
        "2. Compute the $t$ statistic (difference in means divided by the standard error)\n",
        "3. Comput the p-value using the standard normal distribution\n",
        "\n",
        "Compare the results obtained with this test and the randomization test.\n"
      ],
      "metadata": {
        "id": "LSXuY-kBxSi2"
      }
    },
    {
      "cell_type": "code",
      "source": [
        "# pooled standard deviation\n",
        "#individual variances\n",
        "var_2010 = np.var(counts2010)\n",
        "var_2013 = np.var(counts2013)\n",
        "pooled_sd = np.sqrt( ( var_2010 + var_2013 )/ 2 ) \n",
        "\n",
        "# t -statistic\n",
        "t = observed_difference /  (pooled_sd * np.sqrt(2/n))\n",
        "\n",
        "#p-value using the normal distribution\n",
        "# one-tail test\n",
        "p_1t = 1 - norm.cdf(t)\n",
        "p_2t = 2*p_1t\n",
        "\n",
        "print(\"One-tailed P-value: \",p_1t)\n",
        "print(\"Two-tailed P-value: \",p_2t)"
      ],
      "metadata": {
        "colab": {
          "base_uri": "https://localhost:8080/"
        },
        "id": "OXPDG3jhOOyh",
        "outputId": "53d12e48-fd62-4296-933d-9119100a2965"
      },
      "execution_count": null,
      "outputs": [
        {
          "output_type": "stream",
          "name": "stdout",
          "text": [
            "One-tailed P-value:  0.04632205994987493\n",
            "Two-tailed P-value:  0.09264411989974985\n"
          ]
        }
      ]
    },
    {
      "cell_type": "code",
      "source": [
        "t"
      ],
      "metadata": {
        "id": "R87VAdl3i0tU",
        "outputId": "6adc526d-7595-488c-e28f-c5ce47f587d3",
        "colab": {
          "base_uri": "https://localhost:8080/"
        }
      },
      "execution_count": null,
      "outputs": [
        {
          "output_type": "execute_result",
          "data": {
            "text/plain": [
              "1.6816119084447767"
            ]
          },
          "metadata": {},
          "execution_count": 36
        }
      ]
    }
  ],
  "metadata": {
    "anaconda-cloud": {},
    "kernelspec": {
      "display_name": "Python 3",
      "language": "python",
      "name": "python3"
    },
    "language_info": {
      "codemirror_mode": {
        "name": "ipython",
        "version": 3
      },
      "file_extension": ".py",
      "mimetype": "text/x-python",
      "name": "python",
      "nbconvert_exporter": "python",
      "pygments_lexer": "ipython3",
      "version": "3.8.8"
    },
    "colab": {
      "name": "Estadística inferencial.ipynb",
      "provenance": [],
      "include_colab_link": true
    }
  },
  "nbformat": 4,
  "nbformat_minor": 0
}