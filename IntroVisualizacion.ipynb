{
  "nbformat": 4,
  "nbformat_minor": 0,
  "metadata": {
    "colab": {
      "name": "IntroVisualizacion.ipynb",
      "provenance": [],
      "collapsed_sections": [],
      "include_colab_link": true
    },
    "kernelspec": {
      "name": "python3",
      "display_name": "Python 3"
    },
    "language_info": {
      "name": "python"
    }
  },
  "cells": [
    {
      "cell_type": "markdown",
      "metadata": {
        "id": "view-in-github",
        "colab_type": "text"
      },
      "source": [
        "<a href=\"https://colab.research.google.com/github/Eduardo-Coyto/CICADA/blob/Visualizaci%C3%B3n/IntroVisualizacion.ipynb\" target=\"_parent\"><img src=\"https://colab.research.google.com/assets/colab-badge.svg\" alt=\"Open In Colab\"/></a>"
      ]
    },
    {
      "cell_type": "markdown",
      "source": [
        "## Módulo 1: Intro, Visualización\n",
        "\n"
      ],
      "metadata": {
        "id": "2TIHUZ0I8aGq"
      }
    },
    {
      "cell_type": "markdown",
      "source": [
        "### Python"
      ],
      "metadata": {
        "id": "lHa4V-ePBaBZ"
      }
    },
    {
      "cell_type": "markdown",
      "source": [
        "Python es un lenguaje de programación multiparadigma de tipado dinámico de alto nivel. A menudo se dice que el código de Python es casi como un pseudocódigo, ya que le permite expresar ideas muy poderosas en muy pocas líneas de código y es muy legible. \n",
        "\n",
        "Para profundizar en conceptos de Python, o para consultar como referencia:\n",
        "\n",
        "* [CS231n Python Tutorial With Google Colab](https://colab.research.google.com/github/cs231n/cs231n.github.io/blob/master/python-colab.ipynb#scrollTo=cYb0pjh1L9eb)\n",
        "\n",
        "* [Python Cheatsheet](https://www.pythoncheatsheet.org/)\n",
        "\n",
        "* [Intro a Matplotlib](https://matplotlib.org/stable/tutorials/introductory/usage.html)\n",
        "\n",
        "#### Características\n",
        "- Python es un lenguaje orientado a objetos. \n",
        "- Python tiene un vasto ecosistema de bibliotecas, incluyendo muchos para ciencia de datos, que permite extender el lenguaje a nuevos tipos de datos y funcionalidades.\n",
        "\n",
        "\n",
        "#### Lenguaje Interpretado\n",
        "- Python es un lenguaje interpretado, a diferencia de Java y C que son lenguajes compilados.\n",
        "- Esto significa que podemos escribir código en el interprete y será ejecutado inmediatamente, lo que nos permite trabajar \"paso a paso\".\n",
        "\n",
        "#### Python y Jupyter (Colab)\n",
        "- Los notebooks de Jupyter (o Colab) nos permiten intercambiar texto y código en diferentes bloques o celdas. Los comandos de python pueden ser escritos y ejecutados en cada celda simplemente presionando play.\n",
        "\n",
        "- Las celdas de código pueden ser ejecutadas de a una o todas juntas, pero el orden importa, y la \"memoria\" del interprete respetará el orden de ejecución y no necesariamente el orden vertical del notebook.\n",
        "\n",
        "- Si el código ejecutado en una celda devuelve un valor y no se asigna a una variable, la salida será visible a continuación de la celda. \n",
        "\n",
        "Como ejemplo, en la celda de código a continuación hay una implementación del clásico algoritmo de ordenación rápida en Python. Primero se define una función y luego se imprime el resultado de aplicar la función a una lista de números."
      ],
      "metadata": {
        "id": "_WZm5SiG8oN5"
      }
    },
    {
      "cell_type": "code",
      "execution_count": null,
      "metadata": {
        "colab": {
          "base_uri": "https://localhost:8080/"
        },
        "id": "aXantCQk8ZNI",
        "outputId": "e8d07225-eae3-45dc-9ce3-2f80605902d1"
      },
      "outputs": [
        {
          "output_type": "stream",
          "name": "stdout",
          "text": [
            "[1, 1, 2, 3, 6, 8, 10]\n"
          ]
        }
      ],
      "source": [
        "def quicksort(arr):\n",
        "    if len(arr) <= 1:\n",
        "        return arr\n",
        "    pivot = arr[len(arr) // 2]\n",
        "    left = [x for x in arr if x < pivot]\n",
        "    middle = [x for x in arr if x == pivot]\n",
        "    right = [x for x in arr if x > pivot]\n",
        "    return quicksort(left) + middle + quicksort(right)\n",
        "\n",
        "print(quicksort([3,6,8,10,1,2,1]))"
      ]
    },
    {
      "cell_type": "markdown",
      "source": [
        "El interprete tiene memoria sobre la función declarada antes, y si la celda fue ejecutada puedo reutilizar esa función."
      ],
      "metadata": {
        "id": "0mTnGs19AU_X"
      }
    },
    {
      "cell_type": "code",
      "source": [
        "quicksort([30,1,1,130,1,92,-109])"
      ],
      "metadata": {
        "colab": {
          "base_uri": "https://localhost:8080/"
        },
        "id": "CqeIWlbtARbn",
        "outputId": "19fa3ebb-a5bb-4fbf-e7bb-d6eb53875002"
      },
      "execution_count": null,
      "outputs": [
        {
          "output_type": "execute_result",
          "data": {
            "text/plain": [
              "[-109, 1, 1, 1, 30, 92, 130]"
            ]
          },
          "metadata": {},
          "execution_count": 2
        }
      ]
    },
    {
      "cell_type": "markdown",
      "source": [
        "## Visualización"
      ],
      "metadata": {
        "id": "5_Jngy9UBgPW"
      }
    },
    {
      "cell_type": "markdown",
      "source": [
        "Para lo que sigue usaremos datos externos, y algunas bibliotecas para extender las funcionalidades de python."
      ],
      "metadata": {
        "id": "PJFiwNQ6BufT"
      }
    },
    {
      "cell_type": "markdown",
      "source": [
        "### Descarga de datos"
      ],
      "metadata": {
        "id": "Zv-BfWPQB70d"
      }
    },
    {
      "cell_type": "markdown",
      "source": [
        "Hay varias formas de descargar archivos publicamente disponibles de internet, en este caso descargamos dos archivos desde Google Drive y Github que quedarán disponibles en Colab mientras dure la sesión. Para explorar los archivos presentes se puede hacer click a la izquierda en el ícono de la carpeta."
      ],
      "metadata": {
        "id": "xBK-JEnsEFJd"
      }
    },
    {
      "cell_type": "code",
      "source": [
        "%%capture\n",
        "!gdown --id 1JFe67qwopH7KQ7ThzXmgLhy6syAFB27h\n",
        "!gdown --id 17ojr3-h2mKlrdwWNxc3bqq4E82OgLiAX\n",
        "!wget -O titanic.csv https://raw.githubusercontent.com/pln-fing-udelar/curso_aa/master/data/titanic.csv"
      ],
      "metadata": {
        "id": "P4zlYFVDB-Uw"
      },
      "execution_count": null,
      "outputs": []
    },
    {
      "cell_type": "markdown",
      "source": [
        "### Bibliotecas adicionales"
      ],
      "metadata": {
        "id": "9xCWmD2qEqhd"
      }
    },
    {
      "cell_type": "markdown",
      "source": [
        "Estas bibliotecas ya se encuentran disponibles en el ambiente Colab, simplemente hay que importarlas."
      ],
      "metadata": {
        "id": "AcKX1GJ3EubY"
      }
    },
    {
      "cell_type": "code",
      "source": [
        "# Importamos pandas, la próxima clase veremos a fondo sus funcionalidades.\n",
        "import pandas as pd\n",
        "# Importamos numpy, la biblioteca cientifica por excelencia.\n",
        "import numpy as np\n",
        "# Matplotlib, una de las tantas biblioteca para generar gráficos.\n",
        "import matplotlib.pyplot as plt\n",
        "# Seteamos el tamaño de los gráficos que hagamos de ahora en más.\n",
        "from matplotlib import rcParams\n",
        "# figure size in inches\n",
        "rcParams['figure.figsize'] = 6,6\n",
        "# Seaborn, otra biblioteca para generar gráficos.\n",
        "import seaborn as sns"
      ],
      "metadata": {
        "id": "O02LjT6PE0sC"
      },
      "execution_count": null,
      "outputs": []
    },
    {
      "cell_type": "markdown",
      "source": [
        "Usaremos varias funcionalidades de pandas que serán explicadas en el próximo práctico"
      ],
      "metadata": {
        "id": "uDkRz65oHF8Z"
      }
    },
    {
      "cell_type": "markdown",
      "source": [
        "### Datasaurus"
      ],
      "metadata": {
        "id": "xC4skPaULtDX"
      }
    },
    {
      "cell_type": "markdown",
      "source": [
        "Vamos a cargar los datos desde el archivo descargado antes, es un archivo de datos tabulares, pandas nos ayuda a menejar este tipo de datos."
      ],
      "metadata": {
        "id": "StPKfxKwFbeW"
      }
    },
    {
      "cell_type": "code",
      "source": [
        "# crear un DataFrame a partir de un archivo tsv, con separador '\\t' y encabezado en la primer fila.\n",
        "# guardar en variable df\n",
        "df = pd.read_csv(\"DatasaurusDozen.tsv\", sep='\\t', header=0)\n",
        "# mostrar df\n",
        "df"
      ],
      "metadata": {
        "colab": {
          "base_uri": "https://localhost:8080/",
          "height": 424
        },
        "id": "5LXt8M61FVi9",
        "outputId": "6270294b-80c1-4f93-c894-0932d59c7f14"
      },
      "execution_count": null,
      "outputs": [
        {
          "output_type": "execute_result",
          "data": {
            "text/plain": [
              "         dataset          x          y\n",
              "0           dino  55.384600  97.179500\n",
              "1           dino  51.538500  96.025600\n",
              "2           dino  46.153800  94.487200\n",
              "3           dino  42.820500  91.410300\n",
              "4           dino  40.769200  88.333300\n",
              "...          ...        ...        ...\n",
              "1841  wide_lines  33.674442  26.090490\n",
              "1842  wide_lines  75.627255  37.128752\n",
              "1843  wide_lines  40.610125  89.136240\n",
              "1844  wide_lines  39.114366  96.481751\n",
              "1845  wide_lines  34.583829  89.588902\n",
              "\n",
              "[1846 rows x 3 columns]"
            ],
            "text/html": [
              "\n",
              "  <div id=\"df-a412d036-34e0-452c-9c54-b1e91d9f63fe\">\n",
              "    <div class=\"colab-df-container\">\n",
              "      <div>\n",
              "<style scoped>\n",
              "    .dataframe tbody tr th:only-of-type {\n",
              "        vertical-align: middle;\n",
              "    }\n",
              "\n",
              "    .dataframe tbody tr th {\n",
              "        vertical-align: top;\n",
              "    }\n",
              "\n",
              "    .dataframe thead th {\n",
              "        text-align: right;\n",
              "    }\n",
              "</style>\n",
              "<table border=\"1\" class=\"dataframe\">\n",
              "  <thead>\n",
              "    <tr style=\"text-align: right;\">\n",
              "      <th></th>\n",
              "      <th>dataset</th>\n",
              "      <th>x</th>\n",
              "      <th>y</th>\n",
              "    </tr>\n",
              "  </thead>\n",
              "  <tbody>\n",
              "    <tr>\n",
              "      <th>0</th>\n",
              "      <td>dino</td>\n",
              "      <td>55.384600</td>\n",
              "      <td>97.179500</td>\n",
              "    </tr>\n",
              "    <tr>\n",
              "      <th>1</th>\n",
              "      <td>dino</td>\n",
              "      <td>51.538500</td>\n",
              "      <td>96.025600</td>\n",
              "    </tr>\n",
              "    <tr>\n",
              "      <th>2</th>\n",
              "      <td>dino</td>\n",
              "      <td>46.153800</td>\n",
              "      <td>94.487200</td>\n",
              "    </tr>\n",
              "    <tr>\n",
              "      <th>3</th>\n",
              "      <td>dino</td>\n",
              "      <td>42.820500</td>\n",
              "      <td>91.410300</td>\n",
              "    </tr>\n",
              "    <tr>\n",
              "      <th>4</th>\n",
              "      <td>dino</td>\n",
              "      <td>40.769200</td>\n",
              "      <td>88.333300</td>\n",
              "    </tr>\n",
              "    <tr>\n",
              "      <th>...</th>\n",
              "      <td>...</td>\n",
              "      <td>...</td>\n",
              "      <td>...</td>\n",
              "    </tr>\n",
              "    <tr>\n",
              "      <th>1841</th>\n",
              "      <td>wide_lines</td>\n",
              "      <td>33.674442</td>\n",
              "      <td>26.090490</td>\n",
              "    </tr>\n",
              "    <tr>\n",
              "      <th>1842</th>\n",
              "      <td>wide_lines</td>\n",
              "      <td>75.627255</td>\n",
              "      <td>37.128752</td>\n",
              "    </tr>\n",
              "    <tr>\n",
              "      <th>1843</th>\n",
              "      <td>wide_lines</td>\n",
              "      <td>40.610125</td>\n",
              "      <td>89.136240</td>\n",
              "    </tr>\n",
              "    <tr>\n",
              "      <th>1844</th>\n",
              "      <td>wide_lines</td>\n",
              "      <td>39.114366</td>\n",
              "      <td>96.481751</td>\n",
              "    </tr>\n",
              "    <tr>\n",
              "      <th>1845</th>\n",
              "      <td>wide_lines</td>\n",
              "      <td>34.583829</td>\n",
              "      <td>89.588902</td>\n",
              "    </tr>\n",
              "  </tbody>\n",
              "</table>\n",
              "<p>1846 rows × 3 columns</p>\n",
              "</div>\n",
              "      <button class=\"colab-df-convert\" onclick=\"convertToInteractive('df-a412d036-34e0-452c-9c54-b1e91d9f63fe')\"\n",
              "              title=\"Convert this dataframe to an interactive table.\"\n",
              "              style=\"display:none;\">\n",
              "        \n",
              "  <svg xmlns=\"http://www.w3.org/2000/svg\" height=\"24px\"viewBox=\"0 0 24 24\"\n",
              "       width=\"24px\">\n",
              "    <path d=\"M0 0h24v24H0V0z\" fill=\"none\"/>\n",
              "    <path d=\"M18.56 5.44l.94 2.06.94-2.06 2.06-.94-2.06-.94-.94-2.06-.94 2.06-2.06.94zm-11 1L8.5 8.5l.94-2.06 2.06-.94-2.06-.94L8.5 2.5l-.94 2.06-2.06.94zm10 10l.94 2.06.94-2.06 2.06-.94-2.06-.94-.94-2.06-.94 2.06-2.06.94z\"/><path d=\"M17.41 7.96l-1.37-1.37c-.4-.4-.92-.59-1.43-.59-.52 0-1.04.2-1.43.59L10.3 9.45l-7.72 7.72c-.78.78-.78 2.05 0 2.83L4 21.41c.39.39.9.59 1.41.59.51 0 1.02-.2 1.41-.59l7.78-7.78 2.81-2.81c.8-.78.8-2.07 0-2.86zM5.41 20L4 18.59l7.72-7.72 1.47 1.35L5.41 20z\"/>\n",
              "  </svg>\n",
              "      </button>\n",
              "      \n",
              "  <style>\n",
              "    .colab-df-container {\n",
              "      display:flex;\n",
              "      flex-wrap:wrap;\n",
              "      gap: 12px;\n",
              "    }\n",
              "\n",
              "    .colab-df-convert {\n",
              "      background-color: #E8F0FE;\n",
              "      border: none;\n",
              "      border-radius: 50%;\n",
              "      cursor: pointer;\n",
              "      display: none;\n",
              "      fill: #1967D2;\n",
              "      height: 32px;\n",
              "      padding: 0 0 0 0;\n",
              "      width: 32px;\n",
              "    }\n",
              "\n",
              "    .colab-df-convert:hover {\n",
              "      background-color: #E2EBFA;\n",
              "      box-shadow: 0px 1px 2px rgba(60, 64, 67, 0.3), 0px 1px 3px 1px rgba(60, 64, 67, 0.15);\n",
              "      fill: #174EA6;\n",
              "    }\n",
              "\n",
              "    [theme=dark] .colab-df-convert {\n",
              "      background-color: #3B4455;\n",
              "      fill: #D2E3FC;\n",
              "    }\n",
              "\n",
              "    [theme=dark] .colab-df-convert:hover {\n",
              "      background-color: #434B5C;\n",
              "      box-shadow: 0px 1px 3px 1px rgba(0, 0, 0, 0.15);\n",
              "      filter: drop-shadow(0px 1px 2px rgba(0, 0, 0, 0.3));\n",
              "      fill: #FFFFFF;\n",
              "    }\n",
              "  </style>\n",
              "\n",
              "      <script>\n",
              "        const buttonEl =\n",
              "          document.querySelector('#df-a412d036-34e0-452c-9c54-b1e91d9f63fe button.colab-df-convert');\n",
              "        buttonEl.style.display =\n",
              "          google.colab.kernel.accessAllowed ? 'block' : 'none';\n",
              "\n",
              "        async function convertToInteractive(key) {\n",
              "          const element = document.querySelector('#df-a412d036-34e0-452c-9c54-b1e91d9f63fe');\n",
              "          const dataTable =\n",
              "            await google.colab.kernel.invokeFunction('convertToInteractive',\n",
              "                                                     [key], {});\n",
              "          if (!dataTable) return;\n",
              "\n",
              "          const docLinkHtml = 'Like what you see? Visit the ' +\n",
              "            '<a target=\"_blank\" href=https://colab.research.google.com/notebooks/data_table.ipynb>data table notebook</a>'\n",
              "            + ' to learn more about interactive tables.';\n",
              "          element.innerHTML = '';\n",
              "          dataTable['output_type'] = 'display_data';\n",
              "          await google.colab.output.renderOutput(dataTable, element);\n",
              "          const docLink = document.createElement('div');\n",
              "          docLink.innerHTML = docLinkHtml;\n",
              "          element.appendChild(docLink);\n",
              "        }\n",
              "      </script>\n",
              "    </div>\n",
              "  </div>\n",
              "  "
            ]
          },
          "metadata": {},
          "execution_count": 12
        }
      ]
    },
    {
      "cell_type": "markdown",
      "source": [
        "El dataset que cargamos son en realidad puntos (x,y) pertenecientes a varios conjuntos de datos cuyo nombre está en la columna \"dataset\""
      ],
      "metadata": {
        "id": "7ewrzpdIGnkb"
      }
    },
    {
      "cell_type": "code",
      "source": [
        "# imprimir la lista de valores únicos en la columna 'dataset'\n",
        "print(df[\"dataset\"].unique())"
      ],
      "metadata": {
        "colab": {
          "base_uri": "https://localhost:8080/"
        },
        "id": "JsGD4uSdG7TQ",
        "outputId": "43c1d717-67a8-4e13-dc3d-23a04748409b"
      },
      "execution_count": null,
      "outputs": [
        {
          "output_type": "stream",
          "name": "stdout",
          "text": [
            "['dino' 'away' 'h_lines' 'v_lines' 'x_shape' 'star' 'high_lines' 'dots'\n",
            " 'circle' 'bullseye' 'slant_up' 'slant_down' 'wide_lines']\n"
          ]
        }
      ]
    },
    {
      "cell_type": "markdown",
      "source": [
        "Como podemos ver en la siguiente tabla, los puntos (x,y) de cada conjunto de datos tienen estádisticas muy similares:"
      ],
      "metadata": {
        "id": "Ti2hU7KFHj_L"
      }
    },
    {
      "cell_type": "code",
      "source": [
        "# agrupar filas por cada valor unico de la columna 'dataset' y mostrar estádisticas\n",
        "df_stats = df.groupby('dataset').describe()\n",
        "df_stats"
      ],
      "metadata": {
        "colab": {
          "base_uri": "https://localhost:8080/",
          "height": 520
        },
        "id": "Niae6yueHaRK",
        "outputId": "bb189667-86bf-4e9e-8947-60f11b08568c"
      },
      "execution_count": null,
      "outputs": [
        {
          "output_type": "execute_result",
          "data": {
            "text/plain": [
              "                x                                                         \\\n",
              "            count       mean        std        min        25%        50%   \n",
              "dataset                                                                    \n",
              "away        142.0  54.266100  16.769825  15.560750  39.724115  53.340296   \n",
              "bullseye    142.0  54.268730  16.769239  19.288205  41.627968  53.842088   \n",
              "circle      142.0  54.267320  16.760013  21.863581  43.379116  54.023213   \n",
              "dino        142.0  54.263273  16.765142  22.307700  44.102600  53.333300   \n",
              "dots        142.0  54.260303  16.767735  25.443526  50.359707  50.976768   \n",
              "h_lines     142.0  54.261442  16.765898  22.003709  42.293828  53.069678   \n",
              "high_lines  142.0  54.268805  16.766704  17.893499  41.535981  54.168689   \n",
              "slant_down  142.0  54.267849  16.766759  18.109472  42.890931  53.135159   \n",
              "slant_up    142.0  54.265882  16.768853  20.209778  42.810866  54.261345   \n",
              "star        142.0  54.267341  16.768959  27.024603  41.034210  56.534732   \n",
              "v_lines     142.0  54.269927  16.769959  30.449654  49.964506  50.362890   \n",
              "wide_lines  142.0  54.266916  16.770000  27.439632  35.522449  64.550226   \n",
              "x_shape     142.0  54.260150  16.769958  31.106867  40.091656  47.136458   \n",
              "\n",
              "                                      y                                   \\\n",
              "                  75%        max  count       mean        std        min   \n",
              "dataset                                                                    \n",
              "away        69.146597  91.639961  142.0  47.834721  26.939743   0.015119   \n",
              "bullseye    64.798900  91.735539  142.0  47.830823  26.935727   9.691547   \n",
              "circle      64.972672  85.664761  142.0  47.837717  26.930036  16.326546   \n",
              "dino        64.743600  98.205100  142.0  47.832253  26.935403   2.948700   \n",
              "dots        75.197363  77.954435  142.0  47.839829  26.930192  15.771892   \n",
              "h_lines     66.768274  98.288123  142.0  47.830252  26.939876  10.463915   \n",
              "high_lines  63.952667  96.080519  142.0  47.835450  26.939998  14.913962   \n",
              "slant_down  64.469989  95.593416  142.0  47.835896  26.936105   0.303872   \n",
              "slant_up    64.488010  95.260528  142.0  47.831496  26.938608   5.645777   \n",
              "star        68.711493  86.435897  142.0  47.839545  26.930275  14.365590   \n",
              "v_lines     69.504068  89.504851  142.0  47.836988  26.937684   2.734760   \n",
              "wide_lines  67.453672  77.915874  142.0  47.831602  26.937902   0.217006   \n",
              "x_shape     71.856923  85.446186  142.0  47.839717  26.930002   4.577661   \n",
              "\n",
              "                                                        \n",
              "                  25%        50%        75%        max  \n",
              "dataset                                                 \n",
              "away        24.625892  47.535269  71.803148  97.475771  \n",
              "bullseye    26.244735  47.382937  72.532852  85.876229  \n",
              "circle      18.349610  51.025022  77.782382  85.578134  \n",
              "dino        25.288450  46.025600  68.525675  99.487200  \n",
              "dots        17.107141  51.299291  82.881589  94.249328  \n",
              "h_lines     30.479911  50.473527  70.349471  90.458936  \n",
              "high_lines  22.920843  32.499203  75.940022  87.152208  \n",
              "slant_down  27.840858  46.401314  68.439430  99.644179  \n",
              "slant_up    24.756248  45.292238  70.855844  99.579591  \n",
              "star        20.374135  50.110554  63.548584  92.214989  \n",
              "v_lines     22.752884  47.113616  65.845391  99.694680  \n",
              "wide_lines  24.346941  46.279331  67.568127  99.283764  \n",
              "x_shape     23.470809  39.876211  73.609634  97.837615  "
            ],
            "text/html": [
              "\n",
              "  <div id=\"df-3184a618-678c-4b62-bde7-184794d27f9b\">\n",
              "    <div class=\"colab-df-container\">\n",
              "      <div>\n",
              "<style scoped>\n",
              "    .dataframe tbody tr th:only-of-type {\n",
              "        vertical-align: middle;\n",
              "    }\n",
              "\n",
              "    .dataframe tbody tr th {\n",
              "        vertical-align: top;\n",
              "    }\n",
              "\n",
              "    .dataframe thead tr th {\n",
              "        text-align: left;\n",
              "    }\n",
              "\n",
              "    .dataframe thead tr:last-of-type th {\n",
              "        text-align: right;\n",
              "    }\n",
              "</style>\n",
              "<table border=\"1\" class=\"dataframe\">\n",
              "  <thead>\n",
              "    <tr>\n",
              "      <th></th>\n",
              "      <th colspan=\"8\" halign=\"left\">x</th>\n",
              "      <th colspan=\"8\" halign=\"left\">y</th>\n",
              "    </tr>\n",
              "    <tr>\n",
              "      <th></th>\n",
              "      <th>count</th>\n",
              "      <th>mean</th>\n",
              "      <th>std</th>\n",
              "      <th>min</th>\n",
              "      <th>25%</th>\n",
              "      <th>50%</th>\n",
              "      <th>75%</th>\n",
              "      <th>max</th>\n",
              "      <th>count</th>\n",
              "      <th>mean</th>\n",
              "      <th>std</th>\n",
              "      <th>min</th>\n",
              "      <th>25%</th>\n",
              "      <th>50%</th>\n",
              "      <th>75%</th>\n",
              "      <th>max</th>\n",
              "    </tr>\n",
              "    <tr>\n",
              "      <th>dataset</th>\n",
              "      <th></th>\n",
              "      <th></th>\n",
              "      <th></th>\n",
              "      <th></th>\n",
              "      <th></th>\n",
              "      <th></th>\n",
              "      <th></th>\n",
              "      <th></th>\n",
              "      <th></th>\n",
              "      <th></th>\n",
              "      <th></th>\n",
              "      <th></th>\n",
              "      <th></th>\n",
              "      <th></th>\n",
              "      <th></th>\n",
              "      <th></th>\n",
              "    </tr>\n",
              "  </thead>\n",
              "  <tbody>\n",
              "    <tr>\n",
              "      <th>away</th>\n",
              "      <td>142.0</td>\n",
              "      <td>54.266100</td>\n",
              "      <td>16.769825</td>\n",
              "      <td>15.560750</td>\n",
              "      <td>39.724115</td>\n",
              "      <td>53.340296</td>\n",
              "      <td>69.146597</td>\n",
              "      <td>91.639961</td>\n",
              "      <td>142.0</td>\n",
              "      <td>47.834721</td>\n",
              "      <td>26.939743</td>\n",
              "      <td>0.015119</td>\n",
              "      <td>24.625892</td>\n",
              "      <td>47.535269</td>\n",
              "      <td>71.803148</td>\n",
              "      <td>97.475771</td>\n",
              "    </tr>\n",
              "    <tr>\n",
              "      <th>bullseye</th>\n",
              "      <td>142.0</td>\n",
              "      <td>54.268730</td>\n",
              "      <td>16.769239</td>\n",
              "      <td>19.288205</td>\n",
              "      <td>41.627968</td>\n",
              "      <td>53.842088</td>\n",
              "      <td>64.798900</td>\n",
              "      <td>91.735539</td>\n",
              "      <td>142.0</td>\n",
              "      <td>47.830823</td>\n",
              "      <td>26.935727</td>\n",
              "      <td>9.691547</td>\n",
              "      <td>26.244735</td>\n",
              "      <td>47.382937</td>\n",
              "      <td>72.532852</td>\n",
              "      <td>85.876229</td>\n",
              "    </tr>\n",
              "    <tr>\n",
              "      <th>circle</th>\n",
              "      <td>142.0</td>\n",
              "      <td>54.267320</td>\n",
              "      <td>16.760013</td>\n",
              "      <td>21.863581</td>\n",
              "      <td>43.379116</td>\n",
              "      <td>54.023213</td>\n",
              "      <td>64.972672</td>\n",
              "      <td>85.664761</td>\n",
              "      <td>142.0</td>\n",
              "      <td>47.837717</td>\n",
              "      <td>26.930036</td>\n",
              "      <td>16.326546</td>\n",
              "      <td>18.349610</td>\n",
              "      <td>51.025022</td>\n",
              "      <td>77.782382</td>\n",
              "      <td>85.578134</td>\n",
              "    </tr>\n",
              "    <tr>\n",
              "      <th>dino</th>\n",
              "      <td>142.0</td>\n",
              "      <td>54.263273</td>\n",
              "      <td>16.765142</td>\n",
              "      <td>22.307700</td>\n",
              "      <td>44.102600</td>\n",
              "      <td>53.333300</td>\n",
              "      <td>64.743600</td>\n",
              "      <td>98.205100</td>\n",
              "      <td>142.0</td>\n",
              "      <td>47.832253</td>\n",
              "      <td>26.935403</td>\n",
              "      <td>2.948700</td>\n",
              "      <td>25.288450</td>\n",
              "      <td>46.025600</td>\n",
              "      <td>68.525675</td>\n",
              "      <td>99.487200</td>\n",
              "    </tr>\n",
              "    <tr>\n",
              "      <th>dots</th>\n",
              "      <td>142.0</td>\n",
              "      <td>54.260303</td>\n",
              "      <td>16.767735</td>\n",
              "      <td>25.443526</td>\n",
              "      <td>50.359707</td>\n",
              "      <td>50.976768</td>\n",
              "      <td>75.197363</td>\n",
              "      <td>77.954435</td>\n",
              "      <td>142.0</td>\n",
              "      <td>47.839829</td>\n",
              "      <td>26.930192</td>\n",
              "      <td>15.771892</td>\n",
              "      <td>17.107141</td>\n",
              "      <td>51.299291</td>\n",
              "      <td>82.881589</td>\n",
              "      <td>94.249328</td>\n",
              "    </tr>\n",
              "    <tr>\n",
              "      <th>h_lines</th>\n",
              "      <td>142.0</td>\n",
              "      <td>54.261442</td>\n",
              "      <td>16.765898</td>\n",
              "      <td>22.003709</td>\n",
              "      <td>42.293828</td>\n",
              "      <td>53.069678</td>\n",
              "      <td>66.768274</td>\n",
              "      <td>98.288123</td>\n",
              "      <td>142.0</td>\n",
              "      <td>47.830252</td>\n",
              "      <td>26.939876</td>\n",
              "      <td>10.463915</td>\n",
              "      <td>30.479911</td>\n",
              "      <td>50.473527</td>\n",
              "      <td>70.349471</td>\n",
              "      <td>90.458936</td>\n",
              "    </tr>\n",
              "    <tr>\n",
              "      <th>high_lines</th>\n",
              "      <td>142.0</td>\n",
              "      <td>54.268805</td>\n",
              "      <td>16.766704</td>\n",
              "      <td>17.893499</td>\n",
              "      <td>41.535981</td>\n",
              "      <td>54.168689</td>\n",
              "      <td>63.952667</td>\n",
              "      <td>96.080519</td>\n",
              "      <td>142.0</td>\n",
              "      <td>47.835450</td>\n",
              "      <td>26.939998</td>\n",
              "      <td>14.913962</td>\n",
              "      <td>22.920843</td>\n",
              "      <td>32.499203</td>\n",
              "      <td>75.940022</td>\n",
              "      <td>87.152208</td>\n",
              "    </tr>\n",
              "    <tr>\n",
              "      <th>slant_down</th>\n",
              "      <td>142.0</td>\n",
              "      <td>54.267849</td>\n",
              "      <td>16.766759</td>\n",
              "      <td>18.109472</td>\n",
              "      <td>42.890931</td>\n",
              "      <td>53.135159</td>\n",
              "      <td>64.469989</td>\n",
              "      <td>95.593416</td>\n",
              "      <td>142.0</td>\n",
              "      <td>47.835896</td>\n",
              "      <td>26.936105</td>\n",
              "      <td>0.303872</td>\n",
              "      <td>27.840858</td>\n",
              "      <td>46.401314</td>\n",
              "      <td>68.439430</td>\n",
              "      <td>99.644179</td>\n",
              "    </tr>\n",
              "    <tr>\n",
              "      <th>slant_up</th>\n",
              "      <td>142.0</td>\n",
              "      <td>54.265882</td>\n",
              "      <td>16.768853</td>\n",
              "      <td>20.209778</td>\n",
              "      <td>42.810866</td>\n",
              "      <td>54.261345</td>\n",
              "      <td>64.488010</td>\n",
              "      <td>95.260528</td>\n",
              "      <td>142.0</td>\n",
              "      <td>47.831496</td>\n",
              "      <td>26.938608</td>\n",
              "      <td>5.645777</td>\n",
              "      <td>24.756248</td>\n",
              "      <td>45.292238</td>\n",
              "      <td>70.855844</td>\n",
              "      <td>99.579591</td>\n",
              "    </tr>\n",
              "    <tr>\n",
              "      <th>star</th>\n",
              "      <td>142.0</td>\n",
              "      <td>54.267341</td>\n",
              "      <td>16.768959</td>\n",
              "      <td>27.024603</td>\n",
              "      <td>41.034210</td>\n",
              "      <td>56.534732</td>\n",
              "      <td>68.711493</td>\n",
              "      <td>86.435897</td>\n",
              "      <td>142.0</td>\n",
              "      <td>47.839545</td>\n",
              "      <td>26.930275</td>\n",
              "      <td>14.365590</td>\n",
              "      <td>20.374135</td>\n",
              "      <td>50.110554</td>\n",
              "      <td>63.548584</td>\n",
              "      <td>92.214989</td>\n",
              "    </tr>\n",
              "    <tr>\n",
              "      <th>v_lines</th>\n",
              "      <td>142.0</td>\n",
              "      <td>54.269927</td>\n",
              "      <td>16.769959</td>\n",
              "      <td>30.449654</td>\n",
              "      <td>49.964506</td>\n",
              "      <td>50.362890</td>\n",
              "      <td>69.504068</td>\n",
              "      <td>89.504851</td>\n",
              "      <td>142.0</td>\n",
              "      <td>47.836988</td>\n",
              "      <td>26.937684</td>\n",
              "      <td>2.734760</td>\n",
              "      <td>22.752884</td>\n",
              "      <td>47.113616</td>\n",
              "      <td>65.845391</td>\n",
              "      <td>99.694680</td>\n",
              "    </tr>\n",
              "    <tr>\n",
              "      <th>wide_lines</th>\n",
              "      <td>142.0</td>\n",
              "      <td>54.266916</td>\n",
              "      <td>16.770000</td>\n",
              "      <td>27.439632</td>\n",
              "      <td>35.522449</td>\n",
              "      <td>64.550226</td>\n",
              "      <td>67.453672</td>\n",
              "      <td>77.915874</td>\n",
              "      <td>142.0</td>\n",
              "      <td>47.831602</td>\n",
              "      <td>26.937902</td>\n",
              "      <td>0.217006</td>\n",
              "      <td>24.346941</td>\n",
              "      <td>46.279331</td>\n",
              "      <td>67.568127</td>\n",
              "      <td>99.283764</td>\n",
              "    </tr>\n",
              "    <tr>\n",
              "      <th>x_shape</th>\n",
              "      <td>142.0</td>\n",
              "      <td>54.260150</td>\n",
              "      <td>16.769958</td>\n",
              "      <td>31.106867</td>\n",
              "      <td>40.091656</td>\n",
              "      <td>47.136458</td>\n",
              "      <td>71.856923</td>\n",
              "      <td>85.446186</td>\n",
              "      <td>142.0</td>\n",
              "      <td>47.839717</td>\n",
              "      <td>26.930002</td>\n",
              "      <td>4.577661</td>\n",
              "      <td>23.470809</td>\n",
              "      <td>39.876211</td>\n",
              "      <td>73.609634</td>\n",
              "      <td>97.837615</td>\n",
              "    </tr>\n",
              "  </tbody>\n",
              "</table>\n",
              "</div>\n",
              "      <button class=\"colab-df-convert\" onclick=\"convertToInteractive('df-3184a618-678c-4b62-bde7-184794d27f9b')\"\n",
              "              title=\"Convert this dataframe to an interactive table.\"\n",
              "              style=\"display:none;\">\n",
              "        \n",
              "  <svg xmlns=\"http://www.w3.org/2000/svg\" height=\"24px\"viewBox=\"0 0 24 24\"\n",
              "       width=\"24px\">\n",
              "    <path d=\"M0 0h24v24H0V0z\" fill=\"none\"/>\n",
              "    <path d=\"M18.56 5.44l.94 2.06.94-2.06 2.06-.94-2.06-.94-.94-2.06-.94 2.06-2.06.94zm-11 1L8.5 8.5l.94-2.06 2.06-.94-2.06-.94L8.5 2.5l-.94 2.06-2.06.94zm10 10l.94 2.06.94-2.06 2.06-.94-2.06-.94-.94-2.06-.94 2.06-2.06.94z\"/><path d=\"M17.41 7.96l-1.37-1.37c-.4-.4-.92-.59-1.43-.59-.52 0-1.04.2-1.43.59L10.3 9.45l-7.72 7.72c-.78.78-.78 2.05 0 2.83L4 21.41c.39.39.9.59 1.41.59.51 0 1.02-.2 1.41-.59l7.78-7.78 2.81-2.81c.8-.78.8-2.07 0-2.86zM5.41 20L4 18.59l7.72-7.72 1.47 1.35L5.41 20z\"/>\n",
              "  </svg>\n",
              "      </button>\n",
              "      \n",
              "  <style>\n",
              "    .colab-df-container {\n",
              "      display:flex;\n",
              "      flex-wrap:wrap;\n",
              "      gap: 12px;\n",
              "    }\n",
              "\n",
              "    .colab-df-convert {\n",
              "      background-color: #E8F0FE;\n",
              "      border: none;\n",
              "      border-radius: 50%;\n",
              "      cursor: pointer;\n",
              "      display: none;\n",
              "      fill: #1967D2;\n",
              "      height: 32px;\n",
              "      padding: 0 0 0 0;\n",
              "      width: 32px;\n",
              "    }\n",
              "\n",
              "    .colab-df-convert:hover {\n",
              "      background-color: #E2EBFA;\n",
              "      box-shadow: 0px 1px 2px rgba(60, 64, 67, 0.3), 0px 1px 3px 1px rgba(60, 64, 67, 0.15);\n",
              "      fill: #174EA6;\n",
              "    }\n",
              "\n",
              "    [theme=dark] .colab-df-convert {\n",
              "      background-color: #3B4455;\n",
              "      fill: #D2E3FC;\n",
              "    }\n",
              "\n",
              "    [theme=dark] .colab-df-convert:hover {\n",
              "      background-color: #434B5C;\n",
              "      box-shadow: 0px 1px 3px 1px rgba(0, 0, 0, 0.15);\n",
              "      filter: drop-shadow(0px 1px 2px rgba(0, 0, 0, 0.3));\n",
              "      fill: #FFFFFF;\n",
              "    }\n",
              "  </style>\n",
              "\n",
              "      <script>\n",
              "        const buttonEl =\n",
              "          document.querySelector('#df-3184a618-678c-4b62-bde7-184794d27f9b button.colab-df-convert');\n",
              "        buttonEl.style.display =\n",
              "          google.colab.kernel.accessAllowed ? 'block' : 'none';\n",
              "\n",
              "        async function convertToInteractive(key) {\n",
              "          const element = document.querySelector('#df-3184a618-678c-4b62-bde7-184794d27f9b');\n",
              "          const dataTable =\n",
              "            await google.colab.kernel.invokeFunction('convertToInteractive',\n",
              "                                                     [key], {});\n",
              "          if (!dataTable) return;\n",
              "\n",
              "          const docLinkHtml = 'Like what you see? Visit the ' +\n",
              "            '<a target=\"_blank\" href=https://colab.research.google.com/notebooks/data_table.ipynb>data table notebook</a>'\n",
              "            + ' to learn more about interactive tables.';\n",
              "          element.innerHTML = '';\n",
              "          dataTable['output_type'] = 'display_data';\n",
              "          await google.colab.output.renderOutput(dataTable, element);\n",
              "          const docLink = document.createElement('div');\n",
              "          docLink.innerHTML = docLinkHtml;\n",
              "          element.appendChild(docLink);\n",
              "        }\n",
              "      </script>\n",
              "    </div>\n",
              "  </div>\n",
              "  "
            ]
          },
          "metadata": {},
          "execution_count": 14
        }
      ]
    },
    {
      "cell_type": "markdown",
      "source": [
        "Vamos a usar una de las bilbiotecas importadas: matplotlib para ver como se comparan los promedios de las coordenadas. Primero extraemos la lista de datasets, la lista de promedios para X, y la lista de promedios para Y:"
      ],
      "metadata": {
        "id": "ywsPVx9VZgQm"
      }
    },
    {
      "cell_type": "code",
      "source": [
        "labels = list(df_stats.index)\n",
        "print(f\"Labels: {labels}\")\n",
        "x_means = list(df_stats['x']['mean'].values)\n",
        "print(f\"Promedios para coord X: {x_means}\")\n",
        "y_means = list(df_stats['y']['mean'].values)\n",
        "print(f\"Promedios para coord X: {y_means}\")"
      ],
      "metadata": {
        "colab": {
          "base_uri": "https://localhost:8080/"
        },
        "id": "_woOXzUCS2K4",
        "outputId": "4c152b3c-c372-4b71-f34f-e59b7127e0d0"
      },
      "execution_count": null,
      "outputs": [
        {
          "output_type": "stream",
          "name": "stdout",
          "text": [
            "Labels: ['away', 'bullseye', 'circle', 'dino', 'dots', 'h_lines', 'high_lines', 'slant_down', 'slant_up', 'star', 'v_lines', 'wide_lines', 'x_shape']\n",
            "Promedios para coord X: [54.266099784204926, 54.268730022378875, 54.267319706173936, 54.26327323943662, 54.26030345121761, 54.261441783514094, 54.26880527974154, 54.2678488233662, 54.26588178560211, 54.26734110449506, 54.26992723102747, 54.266916301257034, 54.26015033403803]\n",
            "Promedios para coord X: [47.83472062488412, 47.830823155217814, 47.83771726721831, 47.832252816901416, 47.83982920875564, 47.830251913635216, 47.83545020393662, 47.835896330588206, 47.83149565202444, 47.839545225097886, 47.83698798816881, 47.831601988006156, 47.839717279160425]\n"
          ]
        }
      ]
    },
    {
      "cell_type": "markdown",
      "source": [
        "Matplotlib puede ser algo tedioso de usar para graficar pero es muy versatil y permite configurar todos los aspectos de las figuras."
      ],
      "metadata": {
        "id": "G-JAyYpQZ24c"
      }
    },
    {
      "cell_type": "code",
      "source": [
        "x = np.arange(len(labels))  # los puntos para el eje de las x\n",
        "width = 0.35  # el ancho de las barras\n",
        "\n",
        "fig, ax = plt.subplots(figsize=(15,6)) # creo la figura seteando el tamaño deseado\n",
        "\n",
        "rects1 = ax.bar(x - width/2, x_means, width, label='X mean') # dibujo las barras de X\n",
        "rects2 = ax.bar(x + width/2, y_means, width, label='Y mean') # las de Y\n",
        "\n",
        "ax.set_ylabel('Promedio') # Etiqueta para eje de las Y\n",
        "ax.set_title('Promedio por coordenadas y datasets') # titulo de la figura\n",
        "\n",
        "ax.set_xticks(x) # posiciones de las X\n",
        "ax.set_xticklabels(labels) # Etiqueta para el eje de las X\n",
        "ax.legend() # muestro leyenda\n",
        "\n",
        "\n",
        "fig.tight_layout()\n",
        "plt.show() # muestro la figura"
      ],
      "metadata": {
        "colab": {
          "base_uri": "https://localhost:8080/",
          "height": 441
        },
        "id": "f2Q_-A_TSEhB",
        "outputId": "ce7f5dfc-b583-460a-80d9-a4fd6b8e53e3"
      },
      "execution_count": null,
      "outputs": [
        {
          "output_type": "display_data",
          "data": {
            "text/plain": [
              "<Figure size 1080x432 with 1 Axes>"
            ],
            "image/png": "[encoded data removed]"
          },
          "metadata": {
            "needs_background": "light"
          }
        }
      ]
    },
    {
      "cell_type": "markdown",
      "source": [
        "Pandas incorpora funciones que facilitan la creación de graficos, por detrás también usa matplotlib y acepta muchas, aunque no todas, de sus opciones."
      ],
      "metadata": {
        "id": "s3mVlMUbbs9V"
      }
    },
    {
      "cell_type": "code",
      "source": [
        "df_stats.plot( kind='bar', figsize=(18,6))"
      ],
      "metadata": {
        "colab": {
          "base_uri": "https://localhost:8080/",
          "height": 452
        },
        "id": "qKQvj8TYa3SH",
        "outputId": "d47e4fff-128d-4a7b-e46c-bc05f33d799c"
      },
      "execution_count": null,
      "outputs": [
        {
          "output_type": "execute_result",
          "data": {
            "text/plain": [
              "<matplotlib.axes._subplots.AxesSubplot at 0x7fefb55f4cd0>"
            ]
          },
          "metadata": {},
          "execution_count": 51
        },
        {
          "output_type": "display_data",
          "data": {
            "text/plain": [
              "<Figure size 1296x432 with 1 Axes>"
            ],
            "image/png": "[encoded data removed]"
          },
          "metadata": {
            "needs_background": "light"
          }
        }
      ]
    },
    {
      "cell_type": "markdown",
      "source": [
        "La simulitud anterior llevaría a pensar que los conjuntos de puntos en sí son similares, sin embargo..."
      ],
      "metadata": {
        "id": "XIsHd3U4IFb-"
      }
    },
    {
      "cell_type": "code",
      "source": [
        "# agrupar filas por cada valor unico de la columna 'dataset' y graficar con 'scatter' las columnas x e y.\n",
        "df.groupby('dataset').plot('x','y',kind='scatter')"
      ],
      "metadata": {
        "colab": {
          "base_uri": "https://localhost:8080/",
          "height": 1000
        },
        "id": "_YUYkYpYIKhP",
        "outputId": "89387f5e-c0cb-4fd8-fd6d-7cb228fb5653"
      },
      "execution_count": null,
      "outputs": [
        {
          "output_type": "execute_result",
          "data": {
            "text/plain": [
              "dataset\n",
              "away          AxesSubplot(0.125,0.125;0.775x0.755)\n",
              "bullseye      AxesSubplot(0.125,0.125;0.775x0.755)\n",
              "circle        AxesSubplot(0.125,0.125;0.775x0.755)\n",
              "dino          AxesSubplot(0.125,0.125;0.775x0.755)\n",
              "dots          AxesSubplot(0.125,0.125;0.775x0.755)\n",
              "h_lines       AxesSubplot(0.125,0.125;0.775x0.755)\n",
              "high_lines    AxesSubplot(0.125,0.125;0.775x0.755)\n",
              "slant_down    AxesSubplot(0.125,0.125;0.775x0.755)\n",
              "slant_up      AxesSubplot(0.125,0.125;0.775x0.755)\n",
              "star          AxesSubplot(0.125,0.125;0.775x0.755)\n",
              "v_lines       AxesSubplot(0.125,0.125;0.775x0.755)\n",
              "wide_lines    AxesSubplot(0.125,0.125;0.775x0.755)\n",
              "x_shape       AxesSubplot(0.125,0.125;0.775x0.755)\n",
              "dtype: object"
            ]
          },
          "metadata": {},
          "execution_count": 8
        },
        {
          "output_type": "display_data",
          "data": {
            "text/plain": [
              "<Figure size 432x432 with 1 Axes>"
            ],
            "image/png": "[encoded data removed]"
          },
          "metadata": {
            "needs_background": "light"
          }
        },
        {
          "output_type": "display_data",
          "data": {
            "text/plain": [
              "<Figure size 432x432 with 1 Axes>"
            ],
            "image/png": "[encoded data removed]"
          },
          "metadata": {
            "needs_background": "light"
          }
        },
        {
          "output_type": "display_data",
          "data": {
            "text/plain": [
              "<Figure size 432x432 with 1 Axes>"
            ],
            "image/png": "[encoded data removed]"
          },
          "metadata": {
            "needs_background": "light"
          }
        },
        {
          "output_type": "display_data",
          "data": {
            "text/plain": [
              "<Figure size 432x432 with 1 Axes>"
            ],
            "image/png": "[encoded data removed]"
          },
          "metadata": {
            "needs_background": "light"
          }
        },
        {
          "output_type": "display_data",
          "data": {
            "text/plain": [
              "<Figure size 432x432 with 1 Axes>"
            ],
            "image/png": "[encoded data removed]"
          },
          "metadata": {
            "needs_background": "light"
          }
        },
        {
          "output_type": "display_data",
          "data": {
            "text/plain": [
              "<Figure size 432x432 with 1 Axes>"
            ],
            "image/png": "[encoded data removed]"
          },
          "metadata": {
            "needs_background": "light"
          }
        },
        {
          "output_type": "display_data",
          "data": {
            "text/plain": [
              "<Figure size 432x432 with 1 Axes>"
            ],
            "image/png": "[encoded data removed]"
          },
          "metadata": {
            "needs_background": "light"
          }
        },
        {
          "output_type": "display_data",
          "data": {
            "text/plain": [
              "<Figure size 432x432 with 1 Axes>"
            ],
            "image/png": "[encoded data removed]"
          },
          "metadata": {
            "needs_background": "light"
          }
        },
        {
          "output_type": "display_data",
          "data": {
            "text/plain": [
              "<Figure size 432x432 with 1 Axes>"
            ],
            "image/png": "[encoded data removed]"
          },
          "metadata": {
            "needs_background": "light"
          }
        },
        {
          "output_type": "display_data",
          "data": {
            "text/plain": [
              "<Figure size 432x432 with 1 Axes>"
            ],
            "image/png": "[encoded data removed]"
          },
          "metadata": {
            "needs_background": "light"
          }
        },
        {
          "output_type": "display_data",
          "data": {
            "text/plain": [
              "<Figure size 432x432 with 1 Axes>"
            ],
            "image/png": "[encoded data removed]"
          },
          "metadata": {
            "needs_background": "light"
          }
        },
        {
          "output_type": "display_data",
          "data": {
            "text/plain": [
              "<Figure size 432x432 with 1 Axes>"
            ],
            "image/png": "[encoded data removed]"
          },
          "metadata": {
            "needs_background": "light"
          }
        },
        {
          "output_type": "display_data",
          "data": {
            "text/plain": [
              "<Figure size 432x432 with 1 Axes>"
            ],
            "image/png": "[encoded data removed]"
          },
          "metadata": {
            "needs_background": "light"
          }
        }
      ]
    },
    {
      "cell_type": "markdown",
      "source": [
        "**Ejercicio:**\n",
        "\n",
        "\n",
        "1.   Repetir los gráficos anteriores, usando matplotlib\n",
        "2.   Graficar los histogramas de dos de los conjuntos de datos (por ejemplo, *dino* y *star*)\n",
        "\n",
        "\n",
        "\n",
        "\n",
        "\n"
      ],
      "metadata": {
        "id": "QrEvJOLhjnb6"
      }
    },
    {
      "cell_type": "code",
      "source": [
        "# Espacio de código para hacer el ejercicio"
      ],
      "metadata": {
        "id": "gVBnxX9JjhAA"
      },
      "execution_count": null,
      "outputs": []
    },
    {
      "cell_type": "markdown",
      "source": [
        "### Titanic"
      ],
      "metadata": {
        "id": "mc0q5nGALwwx"
      }
    },
    {
      "cell_type": "markdown",
      "source": [
        "Este conjunto de datos contiene información real sobre los pasajeros del Titanic\n",
        "\n",
        "\n"
      ],
      "metadata": {
        "id": "OWES-ujsMn81"
      }
    },
    {
      "cell_type": "code",
      "source": [
        "# creo un DataFrame a partir de un csv, guardo en df\n",
        "df = pd.read_csv('titanic.csv')\n",
        "# muestro df\n",
        "df"
      ],
      "metadata": {
        "colab": {
          "base_uri": "https://localhost:8080/",
          "height": 424
        },
        "id": "EFj7zPiBLzIR",
        "outputId": "b249fdd5-4626-4ff0-bd28-2e94e8880180"
      },
      "execution_count": null,
      "outputs": [
        {
          "output_type": "execute_result",
          "data": {
            "text/plain": [
              "      row.names pclass  survived  \\\n",
              "0             1    1st         1   \n",
              "1             2    1st         0   \n",
              "2             3    1st         0   \n",
              "3             4    1st         0   \n",
              "4             5    1st         1   \n",
              "...         ...    ...       ...   \n",
              "1308       1309    3rd         0   \n",
              "1309       1310    3rd         0   \n",
              "1310       1311    3rd         0   \n",
              "1311       1312    3rd         0   \n",
              "1312       1313    3rd         0   \n",
              "\n",
              "                                                 name      age     embarked  \\\n",
              "0                        Allen, Miss Elisabeth Walton  29.0000  Southampton   \n",
              "1                         Allison, Miss Helen Loraine   2.0000  Southampton   \n",
              "2                 Allison, Mr Hudson Joshua Creighton  30.0000  Southampton   \n",
              "3     Allison, Mrs Hudson J.C. (Bessie Waldo Daniels)  25.0000  Southampton   \n",
              "4                       Allison, Master Hudson Trevor   0.9167  Southampton   \n",
              "...                                               ...      ...          ...   \n",
              "1308                               Zakarian, Mr Artun      NaN          NaN   \n",
              "1309                           Zakarian, Mr Maprieder      NaN          NaN   \n",
              "1310                                  Zenn, Mr Philip      NaN          NaN   \n",
              "1311                                    Zievens, Rene      NaN          NaN   \n",
              "1312                                   Zimmerman, Leo      NaN          NaN   \n",
              "\n",
              "                            home.dest room      ticket   boat     sex  \n",
              "0                        St Louis, MO  B-5  24160 L221      2  female  \n",
              "1     Montreal, PQ / Chesterville, ON  C26         NaN    NaN  female  \n",
              "2     Montreal, PQ / Chesterville, ON  C26         NaN  (135)    male  \n",
              "3     Montreal, PQ / Chesterville, ON  C26         NaN    NaN  female  \n",
              "4     Montreal, PQ / Chesterville, ON  C22         NaN     11    male  \n",
              "...                               ...  ...         ...    ...     ...  \n",
              "1308                              NaN  NaN         NaN    NaN    male  \n",
              "1309                              NaN  NaN         NaN    NaN    male  \n",
              "1310                              NaN  NaN         NaN    NaN    male  \n",
              "1311                              NaN  NaN         NaN    NaN  female  \n",
              "1312                              NaN  NaN         NaN    NaN    male  \n",
              "\n",
              "[1313 rows x 11 columns]"
            ],
            "text/html": [
              "\n",
              "  <div id=\"df-65c044d9-f898-44a2-ac80-90056ba270b3\">\n",
              "    <div class=\"colab-df-container\">\n",
              "      <div>\n",
              "<style scoped>\n",
              "    .dataframe tbody tr th:only-of-type {\n",
              "        vertical-align: middle;\n",
              "    }\n",
              "\n",
              "    .dataframe tbody tr th {\n",
              "        vertical-align: top;\n",
              "    }\n",
              "\n",
              "    .dataframe thead th {\n",
              "        text-align: right;\n",
              "    }\n",
              "</style>\n",
              "<table border=\"1\" class=\"dataframe\">\n",
              "  <thead>\n",
              "    <tr style=\"text-align: right;\">\n",
              "      <th></th>\n",
              "      <th>row.names</th>\n",
              "      <th>pclass</th>\n",
              "      <th>survived</th>\n",
              "      <th>name</th>\n",
              "      <th>age</th>\n",
              "      <th>embarked</th>\n",
              "      <th>home.dest</th>\n",
              "      <th>room</th>\n",
              "      <th>ticket</th>\n",
              "      <th>boat</th>\n",
              "      <th>sex</th>\n",
              "    </tr>\n",
              "  </thead>\n",
              "  <tbody>\n",
              "    <tr>\n",
              "      <th>0</th>\n",
              "      <td>1</td>\n",
              "      <td>1st</td>\n",
              "      <td>1</td>\n",
              "      <td>Allen, Miss Elisabeth Walton</td>\n",
              "      <td>29.0000</td>\n",
              "      <td>Southampton</td>\n",
              "      <td>St Louis, MO</td>\n",
              "      <td>B-5</td>\n",
              "      <td>24160 L221</td>\n",
              "      <td>2</td>\n",
              "      <td>female</td>\n",
              "    </tr>\n",
              "    <tr>\n",
              "      <th>1</th>\n",
              "      <td>2</td>\n",
              "      <td>1st</td>\n",
              "      <td>0</td>\n",
              "      <td>Allison, Miss Helen Loraine</td>\n",
              "      <td>2.0000</td>\n",
              "      <td>Southampton</td>\n",
              "      <td>Montreal, PQ / Chesterville, ON</td>\n",
              "      <td>C26</td>\n",
              "      <td>NaN</td>\n",
              "      <td>NaN</td>\n",
              "      <td>female</td>\n",
              "    </tr>\n",
              "    <tr>\n",
              "      <th>2</th>\n",
              "      <td>3</td>\n",
              "      <td>1st</td>\n",
              "      <td>0</td>\n",
              "      <td>Allison, Mr Hudson Joshua Creighton</td>\n",
              "      <td>30.0000</td>\n",
              "      <td>Southampton</td>\n",
              "      <td>Montreal, PQ / Chesterville, ON</td>\n",
              "      <td>C26</td>\n",
              "      <td>NaN</td>\n",
              "      <td>(135)</td>\n",
              "      <td>male</td>\n",
              "    </tr>\n",
              "    <tr>\n",
              "      <th>3</th>\n",
              "      <td>4</td>\n",
              "      <td>1st</td>\n",
              "      <td>0</td>\n",
              "      <td>Allison, Mrs Hudson J.C. (Bessie Waldo Daniels)</td>\n",
              "      <td>25.0000</td>\n",
              "      <td>Southampton</td>\n",
              "      <td>Montreal, PQ / Chesterville, ON</td>\n",
              "      <td>C26</td>\n",
              "      <td>NaN</td>\n",
              "      <td>NaN</td>\n",
              "      <td>female</td>\n",
              "    </tr>\n",
              "    <tr>\n",
              "      <th>4</th>\n",
              "      <td>5</td>\n",
              "      <td>1st</td>\n",
              "      <td>1</td>\n",
              "      <td>Allison, Master Hudson Trevor</td>\n",
              "      <td>0.9167</td>\n",
              "      <td>Southampton</td>\n",
              "      <td>Montreal, PQ / Chesterville, ON</td>\n",
              "      <td>C22</td>\n",
              "      <td>NaN</td>\n",
              "      <td>11</td>\n",
              "      <td>male</td>\n",
              "    </tr>\n",
              "    <tr>\n",
              "      <th>...</th>\n",
              "      <td>...</td>\n",
              "      <td>...</td>\n",
              "      <td>...</td>\n",
              "      <td>...</td>\n",
              "      <td>...</td>\n",
              "      <td>...</td>\n",
              "      <td>...</td>\n",
              "      <td>...</td>\n",
              "      <td>...</td>\n",
              "      <td>...</td>\n",
              "      <td>...</td>\n",
              "    </tr>\n",
              "    <tr>\n",
              "      <th>1308</th>\n",
              "      <td>1309</td>\n",
              "      <td>3rd</td>\n",
              "      <td>0</td>\n",
              "      <td>Zakarian, Mr Artun</td>\n",
              "      <td>NaN</td>\n",
              "      <td>NaN</td>\n",
              "      <td>NaN</td>\n",
              "      <td>NaN</td>\n",
              "      <td>NaN</td>\n",
              "      <td>NaN</td>\n",
              "      <td>male</td>\n",
              "    </tr>\n",
              "    <tr>\n",
              "      <th>1309</th>\n",
              "      <td>1310</td>\n",
              "      <td>3rd</td>\n",
              "      <td>0</td>\n",
              "      <td>Zakarian, Mr Maprieder</td>\n",
              "      <td>NaN</td>\n",
              "      <td>NaN</td>\n",
              "      <td>NaN</td>\n",
              "      <td>NaN</td>\n",
              "      <td>NaN</td>\n",
              "      <td>NaN</td>\n",
              "      <td>male</td>\n",
              "    </tr>\n",
              "    <tr>\n",
              "      <th>1310</th>\n",
              "      <td>1311</td>\n",
              "      <td>3rd</td>\n",
              "      <td>0</td>\n",
              "      <td>Zenn, Mr Philip</td>\n",
              "      <td>NaN</td>\n",
              "      <td>NaN</td>\n",
              "      <td>NaN</td>\n",
              "      <td>NaN</td>\n",
              "      <td>NaN</td>\n",
              "      <td>NaN</td>\n",
              "      <td>male</td>\n",
              "    </tr>\n",
              "    <tr>\n",
              "      <th>1311</th>\n",
              "      <td>1312</td>\n",
              "      <td>3rd</td>\n",
              "      <td>0</td>\n",
              "      <td>Zievens, Rene</td>\n",
              "      <td>NaN</td>\n",
              "      <td>NaN</td>\n",
              "      <td>NaN</td>\n",
              "      <td>NaN</td>\n",
              "      <td>NaN</td>\n",
              "      <td>NaN</td>\n",
              "      <td>female</td>\n",
              "    </tr>\n",
              "    <tr>\n",
              "      <th>1312</th>\n",
              "      <td>1313</td>\n",
              "      <td>3rd</td>\n",
              "      <td>0</td>\n",
              "      <td>Zimmerman, Leo</td>\n",
              "      <td>NaN</td>\n",
              "      <td>NaN</td>\n",
              "      <td>NaN</td>\n",
              "      <td>NaN</td>\n",
              "      <td>NaN</td>\n",
              "      <td>NaN</td>\n",
              "      <td>male</td>\n",
              "    </tr>\n",
              "  </tbody>\n",
              "</table>\n",
              "<p>1313 rows × 11 columns</p>\n",
              "</div>\n",
              "      <button class=\"colab-df-convert\" onclick=\"convertToInteractive('df-65c044d9-f898-44a2-ac80-90056ba270b3')\"\n",
              "              title=\"Convert this dataframe to an interactive table.\"\n",
              "              style=\"display:none;\">\n",
              "        \n",
              "  <svg xmlns=\"http://www.w3.org/2000/svg\" height=\"24px\"viewBox=\"0 0 24 24\"\n",
              "       width=\"24px\">\n",
              "    <path d=\"M0 0h24v24H0V0z\" fill=\"none\"/>\n",
              "    <path d=\"M18.56 5.44l.94 2.06.94-2.06 2.06-.94-2.06-.94-.94-2.06-.94 2.06-2.06.94zm-11 1L8.5 8.5l.94-2.06 2.06-.94-2.06-.94L8.5 2.5l-.94 2.06-2.06.94zm10 10l.94 2.06.94-2.06 2.06-.94-2.06-.94-.94-2.06-.94 2.06-2.06.94z\"/><path d=\"M17.41 7.96l-1.37-1.37c-.4-.4-.92-.59-1.43-.59-.52 0-1.04.2-1.43.59L10.3 9.45l-7.72 7.72c-.78.78-.78 2.05 0 2.83L4 21.41c.39.39.9.59 1.41.59.51 0 1.02-.2 1.41-.59l7.78-7.78 2.81-2.81c.8-.78.8-2.07 0-2.86zM5.41 20L4 18.59l7.72-7.72 1.47 1.35L5.41 20z\"/>\n",
              "  </svg>\n",
              "      </button>\n",
              "      \n",
              "  <style>\n",
              "    .colab-df-container {\n",
              "      display:flex;\n",
              "      flex-wrap:wrap;\n",
              "      gap: 12px;\n",
              "    }\n",
              "\n",
              "    .colab-df-convert {\n",
              "      background-color: #E8F0FE;\n",
              "      border: none;\n",
              "      border-radius: 50%;\n",
              "      cursor: pointer;\n",
              "      display: none;\n",
              "      fill: #1967D2;\n",
              "      height: 32px;\n",
              "      padding: 0 0 0 0;\n",
              "      width: 32px;\n",
              "    }\n",
              "\n",
              "    .colab-df-convert:hover {\n",
              "      background-color: #E2EBFA;\n",
              "      box-shadow: 0px 1px 2px rgba(60, 64, 67, 0.3), 0px 1px 3px 1px rgba(60, 64, 67, 0.15);\n",
              "      fill: #174EA6;\n",
              "    }\n",
              "\n",
              "    [theme=dark] .colab-df-convert {\n",
              "      background-color: #3B4455;\n",
              "      fill: #D2E3FC;\n",
              "    }\n",
              "\n",
              "    [theme=dark] .colab-df-convert:hover {\n",
              "      background-color: #434B5C;\n",
              "      box-shadow: 0px 1px 3px 1px rgba(0, 0, 0, 0.15);\n",
              "      filter: drop-shadow(0px 1px 2px rgba(0, 0, 0, 0.3));\n",
              "      fill: #FFFFFF;\n",
              "    }\n",
              "  </style>\n",
              "\n",
              "      <script>\n",
              "        const buttonEl =\n",
              "          document.querySelector('#df-65c044d9-f898-44a2-ac80-90056ba270b3 button.colab-df-convert');\n",
              "        buttonEl.style.display =\n",
              "          google.colab.kernel.accessAllowed ? 'block' : 'none';\n",
              "\n",
              "        async function convertToInteractive(key) {\n",
              "          const element = document.querySelector('#df-65c044d9-f898-44a2-ac80-90056ba270b3');\n",
              "          const dataTable =\n",
              "            await google.colab.kernel.invokeFunction('convertToInteractive',\n",
              "                                                     [key], {});\n",
              "          if (!dataTable) return;\n",
              "\n",
              "          const docLinkHtml = 'Like what you see? Visit the ' +\n",
              "            '<a target=\"_blank\" href=https://colab.research.google.com/notebooks/data_table.ipynb>data table notebook</a>'\n",
              "            + ' to learn more about interactive tables.';\n",
              "          element.innerHTML = '';\n",
              "          dataTable['output_type'] = 'display_data';\n",
              "          await google.colab.output.renderOutput(dataTable, element);\n",
              "          const docLink = document.createElement('div');\n",
              "          docLink.innerHTML = docLinkHtml;\n",
              "          element.appendChild(docLink);\n",
              "        }\n",
              "      </script>\n",
              "    </div>\n",
              "  </div>\n",
              "  "
            ]
          },
          "metadata": {},
          "execution_count": 53
        }
      ]
    },
    {
      "cell_type": "markdown",
      "source": [
        "A continuación se muestra el histograma de las edades."
      ],
      "metadata": {
        "id": "BG9gZRgQNd5Y"
      }
    },
    {
      "cell_type": "code",
      "source": [
        "# seleccionar la columna edad y mostrar un histograma de 16 bins.\n",
        "df['age'].hist(bins=16, legend=True)"
      ],
      "metadata": {
        "colab": {
          "base_uri": "https://localhost:8080/",
          "height": 392
        },
        "id": "MvW0tE2wM2ud",
        "outputId": "ee584c61-371b-4fec-ff48-322fc5cdb15a"
      },
      "execution_count": null,
      "outputs": [
        {
          "output_type": "execute_result",
          "data": {
            "text/plain": [
              "<matplotlib.axes._subplots.AxesSubplot at 0x7fefb520f550>"
            ]
          },
          "metadata": {},
          "execution_count": 54
        },
        {
          "output_type": "display_data",
          "data": {
            "text/plain": [
              "<Figure size 432x432 with 1 Axes>"
            ],
            "image/png": "[encoded data removed]"
          },
          "metadata": {
            "needs_background": "light"
          }
        }
      ]
    },
    {
      "cell_type": "code",
      "source": [
        "\n",
        "sns.kdeplot(x=df.age, fill=True, bw_adjust=0.2)"
      ],
      "metadata": {
        "colab": {
          "base_uri": "https://localhost:8080/",
          "height": 406
        },
        "id": "81sansnpmrNI",
        "outputId": "6bf44a65-b4ee-4fe1-debd-86431d04c0cb"
      },
      "execution_count": null,
      "outputs": [
        {
          "output_type": "execute_result",
          "data": {
            "text/plain": [
              "<matplotlib.axes._subplots.AxesSubplot at 0x7fefb30b42d0>"
            ]
          },
          "metadata": {},
          "execution_count": 56
        },
        {
          "output_type": "display_data",
          "data": {
            "text/plain": [
              "<Figure size 432x432 with 1 Axes>"
            ],
            "image/png": "[encoded data removed]"
          },
          "metadata": {
            "needs_background": "light"
          }
        }
      ]
    },
    {
      "cell_type": "code",
      "source": [
        "\n",
        "sns.kdeplot(x=df.age,fill=True,bw_adjust=0.5,clip=(0,100))\n"
      ],
      "metadata": {
        "id": "9UiuUpOGM60V",
        "colab": {
          "base_uri": "https://localhost:8080/",
          "height": 406
        },
        "outputId": "d1405e56-51de-493f-f464-e1c6816240af"
      },
      "execution_count": null,
      "outputs": [
        {
          "output_type": "execute_result",
          "data": {
            "text/plain": [
              "<matplotlib.axes._subplots.AxesSubplot at 0x7fefb30ae4d0>"
            ]
          },
          "metadata": {},
          "execution_count": 57
        },
        {
          "output_type": "display_data",
          "data": {
            "text/plain": [
              "<Figure size 432x432 with 1 Axes>"
            ],
            "image/png": "[encoded data removed]"
          },
          "metadata": {
            "needs_background": "light"
          }
        }
      ]
    },
    {
      "cell_type": "code",
      "source": [
        "sns.violinplot(x=\"survived\", y=\"age\", data=df)"
      ],
      "metadata": {
        "colab": {
          "base_uri": "https://localhost:8080/",
          "height": 406
        },
        "id": "zY-U0HyxqP5P",
        "outputId": "3f158179-e634-4f42-dde2-4eee0f237d16"
      },
      "execution_count": null,
      "outputs": [
        {
          "output_type": "execute_result",
          "data": {
            "text/plain": [
              "<matplotlib.axes._subplots.AxesSubplot at 0x7fefb30ecfd0>"
            ]
          },
          "metadata": {},
          "execution_count": 58
        },
        {
          "output_type": "display_data",
          "data": {
            "text/plain": [
              "<Figure size 432x432 with 1 Axes>"
            ],
            "image/png": "[encoded data removed]"
          },
          "metadata": {
            "needs_background": "light"
          }
        }
      ]
    },
    {
      "cell_type": "code",
      "source": [
        "df = pd.read_csv('https://www.fing.edu.uy/~mfiori/life-expectancy.csv')\n",
        "df"
      ],
      "metadata": {
        "colab": {
          "base_uri": "https://localhost:8080/",
          "height": 424
        },
        "id": "pYP6CFl-xaOk",
        "outputId": "b4c6508f-5b3c-4e6f-acf5-674c53c43fdf"
      },
      "execution_count": null,
      "outputs": [
        {
          "output_type": "execute_result",
          "data": {
            "text/plain": [
              "            Entity Code  Year  Life expectancy\n",
              "0      Afghanistan  AFG  1950           27.638\n",
              "1      Afghanistan  AFG  1951           27.878\n",
              "2      Afghanistan  AFG  1952           28.361\n",
              "3      Afghanistan  AFG  1953           28.852\n",
              "4      Afghanistan  AFG  1954           29.350\n",
              "...            ...  ...   ...              ...\n",
              "19023     Zimbabwe  ZWE  2015           59.534\n",
              "19024     Zimbabwe  ZWE  2016           60.294\n",
              "19025     Zimbabwe  ZWE  2017           60.812\n",
              "19026     Zimbabwe  ZWE  2018           61.195\n",
              "19027     Zimbabwe  ZWE  2019           61.490\n",
              "\n",
              "[19028 rows x 4 columns]"
            ],
            "text/html": [
              "\n",
              "  <div id=\"df-d4196917-91c9-4187-86ad-8a5dc24a00ce\">\n",
              "    <div class=\"colab-df-container\">\n",
              "      <div>\n",
              "<style scoped>\n",
              "    .dataframe tbody tr th:only-of-type {\n",
              "        vertical-align: middle;\n",
              "    }\n",
              "\n",
              "    .dataframe tbody tr th {\n",
              "        vertical-align: top;\n",
              "    }\n",
              "\n",
              "    .dataframe thead th {\n",
              "        text-align: right;\n",
              "    }\n",
              "</style>\n",
              "<table border=\"1\" class=\"dataframe\">\n",
              "  <thead>\n",
              "    <tr style=\"text-align: right;\">\n",
              "      <th></th>\n",
              "      <th>Entity</th>\n",
              "      <th>Code</th>\n",
              "      <th>Year</th>\n",
              "      <th>Life expectancy</th>\n",
              "    </tr>\n",
              "  </thead>\n",
              "  <tbody>\n",
              "    <tr>\n",
              "      <th>0</th>\n",
              "      <td>Afghanistan</td>\n",
              "      <td>AFG</td>\n",
              "      <td>1950</td>\n",
              "      <td>27.638</td>\n",
              "    </tr>\n",
              "    <tr>\n",
              "      <th>1</th>\n",
              "      <td>Afghanistan</td>\n",
              "      <td>AFG</td>\n",
              "      <td>1951</td>\n",
              "      <td>27.878</td>\n",
              "    </tr>\n",
              "    <tr>\n",
              "      <th>2</th>\n",
              "      <td>Afghanistan</td>\n",
              "      <td>AFG</td>\n",
              "      <td>1952</td>\n",
              "      <td>28.361</td>\n",
              "    </tr>\n",
              "    <tr>\n",
              "      <th>3</th>\n",
              "      <td>Afghanistan</td>\n",
              "      <td>AFG</td>\n",
              "      <td>1953</td>\n",
              "      <td>28.852</td>\n",
              "    </tr>\n",
              "    <tr>\n",
              "      <th>4</th>\n",
              "      <td>Afghanistan</td>\n",
              "      <td>AFG</td>\n",
              "      <td>1954</td>\n",
              "      <td>29.350</td>\n",
              "    </tr>\n",
              "    <tr>\n",
              "      <th>...</th>\n",
              "      <td>...</td>\n",
              "      <td>...</td>\n",
              "      <td>...</td>\n",
              "      <td>...</td>\n",
              "    </tr>\n",
              "    <tr>\n",
              "      <th>19023</th>\n",
              "      <td>Zimbabwe</td>\n",
              "      <td>ZWE</td>\n",
              "      <td>2015</td>\n",
              "      <td>59.534</td>\n",
              "    </tr>\n",
              "    <tr>\n",
              "      <th>19024</th>\n",
              "      <td>Zimbabwe</td>\n",
              "      <td>ZWE</td>\n",
              "      <td>2016</td>\n",
              "      <td>60.294</td>\n",
              "    </tr>\n",
              "    <tr>\n",
              "      <th>19025</th>\n",
              "      <td>Zimbabwe</td>\n",
              "      <td>ZWE</td>\n",
              "      <td>2017</td>\n",
              "      <td>60.812</td>\n",
              "    </tr>\n",
              "    <tr>\n",
              "      <th>19026</th>\n",
              "      <td>Zimbabwe</td>\n",
              "      <td>ZWE</td>\n",
              "      <td>2018</td>\n",
              "      <td>61.195</td>\n",
              "    </tr>\n",
              "    <tr>\n",
              "      <th>19027</th>\n",
              "      <td>Zimbabwe</td>\n",
              "      <td>ZWE</td>\n",
              "      <td>2019</td>\n",
              "      <td>61.490</td>\n",
              "    </tr>\n",
              "  </tbody>\n",
              "</table>\n",
              "<p>19028 rows × 4 columns</p>\n",
              "</div>\n",
              "      <button class=\"colab-df-convert\" onclick=\"convertToInteractive('df-d4196917-91c9-4187-86ad-8a5dc24a00ce')\"\n",
              "              title=\"Convert this dataframe to an interactive table.\"\n",
              "              style=\"display:none;\">\n",
              "        \n",
              "  <svg xmlns=\"http://www.w3.org/2000/svg\" height=\"24px\"viewBox=\"0 0 24 24\"\n",
              "       width=\"24px\">\n",
              "    <path d=\"M0 0h24v24H0V0z\" fill=\"none\"/>\n",
              "    <path d=\"M18.56 5.44l.94 2.06.94-2.06 2.06-.94-2.06-.94-.94-2.06-.94 2.06-2.06.94zm-11 1L8.5 8.5l.94-2.06 2.06-.94-2.06-.94L8.5 2.5l-.94 2.06-2.06.94zm10 10l.94 2.06.94-2.06 2.06-.94-2.06-.94-.94-2.06-.94 2.06-2.06.94z\"/><path d=\"M17.41 7.96l-1.37-1.37c-.4-.4-.92-.59-1.43-.59-.52 0-1.04.2-1.43.59L10.3 9.45l-7.72 7.72c-.78.78-.78 2.05 0 2.83L4 21.41c.39.39.9.59 1.41.59.51 0 1.02-.2 1.41-.59l7.78-7.78 2.81-2.81c.8-.78.8-2.07 0-2.86zM5.41 20L4 18.59l7.72-7.72 1.47 1.35L5.41 20z\"/>\n",
              "  </svg>\n",
              "      </button>\n",
              "      \n",
              "  <style>\n",
              "    .colab-df-container {\n",
              "      display:flex;\n",
              "      flex-wrap:wrap;\n",
              "      gap: 12px;\n",
              "    }\n",
              "\n",
              "    .colab-df-convert {\n",
              "      background-color: #E8F0FE;\n",
              "      border: none;\n",
              "      border-radius: 50%;\n",
              "      cursor: pointer;\n",
              "      display: none;\n",
              "      fill: #1967D2;\n",
              "      height: 32px;\n",
              "      padding: 0 0 0 0;\n",
              "      width: 32px;\n",
              "    }\n",
              "\n",
              "    .colab-df-convert:hover {\n",
              "      background-color: #E2EBFA;\n",
              "      box-shadow: 0px 1px 2px rgba(60, 64, 67, 0.3), 0px 1px 3px 1px rgba(60, 64, 67, 0.15);\n",
              "      fill: #174EA6;\n",
              "    }\n",
              "\n",
              "    [theme=dark] .colab-df-convert {\n",
              "      background-color: #3B4455;\n",
              "      fill: #D2E3FC;\n",
              "    }\n",
              "\n",
              "    [theme=dark] .colab-df-convert:hover {\n",
              "      background-color: #434B5C;\n",
              "      box-shadow: 0px 1px 3px 1px rgba(0, 0, 0, 0.15);\n",
              "      filter: drop-shadow(0px 1px 2px rgba(0, 0, 0, 0.3));\n",
              "      fill: #FFFFFF;\n",
              "    }\n",
              "  </style>\n",
              "\n",
              "      <script>\n",
              "        const buttonEl =\n",
              "          document.querySelector('#df-d4196917-91c9-4187-86ad-8a5dc24a00ce button.colab-df-convert');\n",
              "        buttonEl.style.display =\n",
              "          google.colab.kernel.accessAllowed ? 'block' : 'none';\n",
              "\n",
              "        async function convertToInteractive(key) {\n",
              "          const element = document.querySelector('#df-d4196917-91c9-4187-86ad-8a5dc24a00ce');\n",
              "          const dataTable =\n",
              "            await google.colab.kernel.invokeFunction('convertToInteractive',\n",
              "                                                     [key], {});\n",
              "          if (!dataTable) return;\n",
              "\n",
              "          const docLinkHtml = 'Like what you see? Visit the ' +\n",
              "            '<a target=\"_blank\" href=https://colab.research.google.com/notebooks/data_table.ipynb>data table notebook</a>'\n",
              "            + ' to learn more about interactive tables.';\n",
              "          element.innerHTML = '';\n",
              "          dataTable['output_type'] = 'display_data';\n",
              "          await google.colab.output.renderOutput(dataTable, element);\n",
              "          const docLink = document.createElement('div');\n",
              "          docLink.innerHTML = docLinkHtml;\n",
              "          element.appendChild(docLink);\n",
              "        }\n",
              "      </script>\n",
              "    </div>\n",
              "  </div>\n",
              "  "
            ]
          },
          "metadata": {},
          "execution_count": 59
        }
      ]
    },
    {
      "cell_type": "markdown",
      "source": [
        "**Ejercicio:**\n",
        "\n",
        "\n",
        "1.   Intentar aplicar algunas de las visualizaciones vistas en clase a este dataset.\n"
      ],
      "metadata": {
        "id": "s-sTQ_jW6-bk"
      }
    }
  ]
}